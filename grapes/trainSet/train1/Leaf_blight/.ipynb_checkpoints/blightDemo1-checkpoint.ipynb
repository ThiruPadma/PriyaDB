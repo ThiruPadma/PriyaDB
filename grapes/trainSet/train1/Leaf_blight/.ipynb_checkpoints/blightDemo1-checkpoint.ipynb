{
 "cells": [
  {
   "cell_type": "code",
   "execution_count": 1,
   "id": "451027e7",
   "metadata": {},
   "outputs": [],
   "source": [
    "import numpy as np\n",
    "import cv2\n",
    "from matplotlib import pyplot as plt\n"
   ]
  },
  {
   "cell_type": "code",
   "execution_count": 2,
   "id": "179bbe50",
   "metadata": {},
   "outputs": [],
   "source": [
    "path = 'blackrot (1).jpg'\n",
    "img = cv2.imread(path)"
   ]
  },
  {
   "cell_type": "code",
   "execution_count": 3,
   "id": "0eac60fc",
   "metadata": {},
   "outputs": [],
   "source": [
    "#img = cv2.imread(file, 0)\n",
    "img = cv2.resize(img, (800,800))\n",
    "ret,thresh1 = cv2.threshold(img,127,255,cv2.THRESH_BINARY)\n",
    "ret,thresh2 = cv2.threshold(img,127,255,cv2.THRESH_BINARY_INV)\n",
    "ret,thresh3 = cv2.threshold(img,127,255,cv2.THRESH_TRUNC)\n",
    "ret,thresh4 = cv2.threshold(img,127,255,cv2.THRESH_TOZERO)\n",
    "ret,thresh5 = cv2.threshold(img,127,255,cv2.THRESH_TOZERO_INV)\n"
   ]
  },
  {
   "cell_type": "code",
   "execution_count": 4,
   "id": "908f767b",
   "metadata": {},
   "outputs": [],
   "source": [
    "titles = ['Original Image','BINARY','BINARY_INV','TRUNC','TOZERO','TOZERO_INV']\n",
    "images = [img, thresh1, thresh2, thresh3, thresh4, thresh5]"
   ]
  },
  {
   "cell_type": "code",
   "execution_count": 5,
   "id": "241c5dee",
   "metadata": {},
   "outputs": [],
   "source": [
    "for i in range(6):\n",
    "    cv2.imshow(titles[i], images[i])\n",
    "    cv2.waitKey(0)\n",
    "\n",
    "plt.show()"
   ]
  },
  {
   "cell_type": "code",
   "execution_count": null,
   "id": "710e2143",
   "metadata": {},
   "outputs": [],
   "source": []
  }
 ],
 "metadata": {
  "kernelspec": {
   "display_name": "Python 3 (ipykernel)",
   "language": "python",
   "name": "python3"
  },
  "language_info": {
   "codemirror_mode": {
    "name": "ipython",
    "version": 3
   },
   "file_extension": ".py",
   "mimetype": "text/x-python",
   "name": "python",
   "nbconvert_exporter": "python",
   "pygments_lexer": "ipython3",
   "version": "3.9.7"
  }
 },
 "nbformat": 4,
 "nbformat_minor": 5
}
