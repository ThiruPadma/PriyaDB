{
 "cells": [
  {
   "cell_type": "markdown",
   "metadata": {
    "colab_type": "text",
    "id": "view-in-github"
   },
   "source": [
    "<a href=\"https://colab.research.google.com/github/deepanrajm/machine_learning/blob/master/OpenCv/OpenCV.ipynb\" target=\"_parent\"><img src=\"https://colab.research.google.com/assets/colab-badge.svg\" alt=\"Open In Colab\"/></a>"
   ]
  },
  {
   "cell_type": "code",
   "execution_count": null,
   "metadata": {
    "id": "9Q-m7zp54A3Y"
   },
   "outputs": [],
   "source": [
    "!git clone https://github.com/deepanrajm/machine_learning.git"
   ]
  },
  {
   "cell_type": "code",
   "execution_count": null,
   "metadata": {
    "id": "t9db6mZqD-YT"
   },
   "outputs": [],
   "source": [
    "!pip install opencv-python==3.4.3.18"
   ]
  },
  {
   "cell_type": "markdown",
   "metadata": {
    "id": "yvutERDc22WB"
   },
   "source": [
    "# **Load Display and Save the image**"
   ]
  },
  {
   "cell_type": "code",
   "execution_count": null,
   "metadata": {
    "id": "vEIY375s1jL9"
   },
   "outputs": [],
   "source": [
    "import cv2\n",
    "from google.colab.patches import cv2_imshow\n",
    " \n",
    "# load the image and show some basic information on it\n",
    "image = cv2.imread(\"machine_learning/OpenCv/images/bb.JPG\")"
   ]
  },
  {
   "cell_type": "code",
   "execution_count": null,
   "metadata": {
    "id": "wek4tBjA2FbJ"
   },
   "outputs": [],
   "source": [
    "# show the image\n",
    "#image= cv2.cvtColor(image, cv2.COLOR_BGR2RGB)\n",
    "cv2_imshow(image)"
   ]
  },
  {
   "cell_type": "code",
   "execution_count": null,
   "metadata": {
    "colab": {
     "base_uri": "https://localhost:8080/",
     "height": 34
    },
    "id": "zGizO4sK2UOF",
    "outputId": "d90f7ee5-4649-40a8-c4d2-ccabbe13da92"
   },
   "outputs": [
    {
     "data": {
      "text/plain": [
       "True"
      ]
     },
     "execution_count": 3,
     "metadata": {
      "tags": []
     },
     "output_type": "execute_result"
    }
   ],
   "source": [
    "# save the image -- OpenCV handles converting file types automatically\n",
    "cv2.imwrite(\"big_boss_1.jpg\", image)"
   ]
  },
  {
   "cell_type": "markdown",
   "metadata": {
    "id": "hNI1j8hU29IT"
   },
   "source": [
    "# **Drawing Functions**"
   ]
  },
  {
   "cell_type": "code",
   "execution_count": null,
   "metadata": {
    "id": "3-gMSPx32z4R"
   },
   "outputs": [],
   "source": [
    "import numpy as np"
   ]
  },
  {
   "cell_type": "code",
   "execution_count": null,
   "metadata": {
    "id": "yvGidjuN3AXt"
   },
   "outputs": [],
   "source": [
    "canvas = np.ones((500, 500, 3), dtype=\"uint8\")*255"
   ]
  },
  {
   "cell_type": "code",
   "execution_count": null,
   "metadata": {
    "id": "JUB9-RBZ3C9h"
   },
   "outputs": [],
   "source": [
    "black = (0, 0, 0)\n",
    "cv2.line(canvas, (0, 0), (400, 400), black,3)\n",
    "cv2_imshow(canvas)"
   ]
  },
  {
   "cell_type": "code",
   "execution_count": null,
   "metadata": {
    "id": "0SJXnG143IW3"
   },
   "outputs": [],
   "source": [
    "red =[0,0,255]\n",
    "cv2.rectangle(canvas, (150, 100), (100, 225), red, 5)\n",
    "cv2_imshow(canvas)"
   ]
  },
  {
   "cell_type": "code",
   "execution_count": null,
   "metadata": {
    "id": "NR31ZJqi3SZF"
   },
   "outputs": [],
   "source": [
    "green = (0, 255, 0)\n",
    "cv2.rectangle(canvas, (300, 50), (425, 125), green, -1)\n",
    "cv2_imshow(canvas)"
   ]
  },
  {
   "cell_type": "code",
   "execution_count": null,
   "metadata": {
    "id": "WvMVJ61l3W9p"
   },
   "outputs": [],
   "source": [
    "canvas = np.zeros((500, 500, 3), dtype=\"uint8\")"
   ]
  },
  {
   "cell_type": "code",
   "execution_count": null,
   "metadata": {
    "id": "7Oy5xXVn3cBs"
   },
   "outputs": [],
   "source": [
    "for i in range(0, 25):\n",
    "\t# randomly generate a radius size between 5 and 200, generate a random\n",
    "\t# color, and then pick a random point on our canvas where the circle\n",
    "\t# will be drawn\n",
    "\tradius = np.random.randint(5, high=300)\n",
    "\tcolor = np.random.randint(0, high=256, size = (3,)).tolist()\n",
    "\tpt = np.random.randint(0, high=400, size = (2,))\n",
    "\n",
    "\t# draw our random circle\n",
    "\tcv2.circle(canvas, tuple(pt), radius, color, -1)\n",
    "\n",
    "# Show our masterpiece\n",
    "cv2_imshow(canvas)"
   ]
  },
  {
   "cell_type": "markdown",
   "metadata": {
    "id": "-Y0CY0ed4ycb"
   },
   "source": [
    "# **Write Text on image**"
   ]
  },
  {
   "cell_type": "code",
   "execution_count": null,
   "metadata": {
    "id": "czCMewtX3w9d"
   },
   "outputs": [],
   "source": [
    "image = cv2.imread(\"machine_learning/OpenCv/images/big_boss.JPG\")\n",
    "cv2.putText(image, 'Big Boss 2', (30, 30), cv2.FONT_HERSHEY_SIMPLEX, 0.8, (0, 255, 0), 2)\n",
    "cv2_imshow(image)"
   ]
  },
  {
   "cell_type": "markdown",
   "metadata": {
    "id": "cpxq1exF4v2q"
   },
   "source": [
    "# **Translate**"
   ]
  },
  {
   "cell_type": "code",
   "execution_count": null,
   "metadata": {
    "id": "WQks-khb4tv8"
   },
   "outputs": [],
   "source": [
    "import imutils"
   ]
  },
  {
   "cell_type": "code",
   "execution_count": null,
   "metadata": {
    "id": "6d8JyaXx43i7"
   },
   "outputs": [],
   "source": [
    "image = cv2.imread(\"machine_learning/OpenCv/images/minion.jpg\")\n",
    "cv2_imshow(image)"
   ]
  },
  {
   "cell_type": "code",
   "execution_count": null,
   "metadata": {
    "id": "EsozQOVd5EWv"
   },
   "outputs": [],
   "source": [
    "shifted = imutils.translate(image, 0, 100)\n",
    "cv2_imshow(shifted)"
   ]
  },
  {
   "cell_type": "markdown",
   "metadata": {
    "id": "zJAoQN9t5Ogg"
   },
   "source": [
    "# **Rotate Image**"
   ]
  },
  {
   "cell_type": "code",
   "execution_count": null,
   "metadata": {
    "id": "zbG0gjaF5OPd"
   },
   "outputs": [],
   "source": [
    "rotated = imutils.rotate(image, 180)\n",
    "cv2_imshow(rotated)"
   ]
  },
  {
   "cell_type": "markdown",
   "metadata": {
    "id": "cktUadUm5d8S"
   },
   "source": [
    "# **Crop image**"
   ]
  },
  {
   "cell_type": "code",
   "execution_count": null,
   "metadata": {
    "id": "QZD4igqf5fuD"
   },
   "outputs": [],
   "source": [
    "crop = image[10:300,10:300]\n",
    "cv2_imshow(crop)"
   ]
  },
  {
   "cell_type": "markdown",
   "metadata": {
    "id": "bZCC5b2f5j_4"
   },
   "source": [
    "# **Resize without aspect Ratio**"
   ]
  },
  {
   "cell_type": "code",
   "execution_count": null,
   "metadata": {
    "id": "ZgwvT_Yg5nBj"
   },
   "outputs": [],
   "source": [
    "resized = cv2.resize(image, (500,500))\n",
    "cv2_imshow(resized)"
   ]
  },
  {
   "cell_type": "markdown",
   "metadata": {
    "id": "5pUSP4-h5rRz"
   },
   "source": [
    "# **Resize with aspect Ration**"
   ]
  },
  {
   "cell_type": "code",
   "execution_count": null,
   "metadata": {
    "id": "NisqiW6z5t8w"
   },
   "outputs": [],
   "source": [
    "resized = imutils.resize(image, width=500)\n",
    "cv2_imshow(resized)"
   ]
  },
  {
   "cell_type": "markdown",
   "metadata": {
    "id": "Ju9rz19V524R"
   },
   "source": [
    "# **Flipping**"
   ]
  },
  {
   "cell_type": "code",
   "execution_count": null,
   "metadata": {
    "id": "KKX4d00Y55mo"
   },
   "outputs": [],
   "source": [
    "flipped = cv2.flip(image, 1)\n",
    "cv2_imshow(flipped)"
   ]
  },
  {
   "cell_type": "code",
   "execution_count": null,
   "metadata": {
    "id": "bUzCRuXQ58XP"
   },
   "outputs": [],
   "source": [
    "flipped = cv2.flip(image, 0)\n",
    "cv2_imshow(flipped)"
   ]
  },
  {
   "cell_type": "code",
   "execution_count": null,
   "metadata": {
    "id": "pPu2PQ2P6ABy"
   },
   "outputs": [],
   "source": [
    "flipped = cv2.flip(image, -1)\n",
    "cv2_imshow( flipped)"
   ]
  },
  {
   "cell_type": "markdown",
   "metadata": {
    "id": "qNrDGqVm6ImP"
   },
   "source": [
    "# **Bitwise Operation**"
   ]
  },
  {
   "cell_type": "code",
   "execution_count": null,
   "metadata": {
    "id": "XbigQef-6Kpx"
   },
   "outputs": [],
   "source": [
    "rectangle = np.zeros((300, 300), dtype = \"uint8\")\n",
    "cv2.rectangle(rectangle, (25, 25), (275, 275), 255, -1)\n",
    "cv2_imshow(rectangle)"
   ]
  },
  {
   "cell_type": "code",
   "execution_count": null,
   "metadata": {
    "id": "yT_guSxw6QHd"
   },
   "outputs": [],
   "source": [
    "circle = np.zeros((300, 300), dtype = \"uint8\")\n",
    "cv2.circle(circle, (150, 150), 150, 255, -1)\n",
    "cv2_imshow(circle)"
   ]
  },
  {
   "cell_type": "code",
   "execution_count": null,
   "metadata": {
    "id": "Lm3lU0JA6T2I"
   },
   "outputs": [],
   "source": [
    "bitwiseAnd = cv2.bitwise_and(rectangle, circle)\n",
    "cv2_imshow(bitwiseAnd)"
   ]
  },
  {
   "cell_type": "code",
   "execution_count": null,
   "metadata": {
    "id": "9QmOODO_6W9c"
   },
   "outputs": [],
   "source": [
    "bitwiseOr = cv2.bitwise_or(rectangle, circle)\n",
    "cv2_imshow(bitwiseOr)"
   ]
  },
  {
   "cell_type": "code",
   "execution_count": null,
   "metadata": {
    "id": "RP1W97iy6Z_2"
   },
   "outputs": [],
   "source": [
    "bitwiseXor = cv2.bitwise_xor(rectangle, circle)\n",
    "cv2_imshow(bitwiseXor)"
   ]
  },
  {
   "cell_type": "code",
   "execution_count": null,
   "metadata": {
    "id": "hAV1tJur6dS7"
   },
   "outputs": [],
   "source": [
    "bitwiseNot = cv2.bitwise_not(circle)\n",
    "cv2_imshow(bitwiseNot)"
   ]
  },
  {
   "cell_type": "markdown",
   "metadata": {
    "id": "nWsPFuLC6h55"
   },
   "source": [
    "# **Masking**"
   ]
  },
  {
   "cell_type": "code",
   "execution_count": null,
   "metadata": {
    "id": "auGvtyF16j0y"
   },
   "outputs": [],
   "source": [
    "mask = np.zeros(image.shape[:2], dtype=\"uint8\")\n",
    "cv2.rectangle(mask, (452, 243), (690, 590), 255, -1)\n",
    "cv2_imshow( mask)"
   ]
  },
  {
   "cell_type": "code",
   "execution_count": null,
   "metadata": {
    "id": "-zT58GQf6tpH"
   },
   "outputs": [],
   "source": [
    "masked = cv2.bitwise_and(image, image, mask=mask)\n",
    "cv2_imshow(masked)"
   ]
  },
  {
   "cell_type": "code",
   "execution_count": null,
   "metadata": {
    "id": "8AHQW6YI6zfQ"
   },
   "outputs": [],
   "source": [
    "mask = np.zeros(image.shape[:2], dtype=\"uint8\")\n",
    "cv2.circle(mask, (585, 98), 50, 255, -1)\n",
    "masked = cv2.bitwise_and(image, image, mask=mask)\n",
    "cv2_imshow(mask)\n",
    "cv2_imshow(masked)"
   ]
  },
  {
   "cell_type": "markdown",
   "metadata": {
    "id": "dcKqEWC07AWH"
   },
   "source": [
    "# **Smoothing and Blurring**"
   ]
  },
  {
   "cell_type": "markdown",
   "metadata": {
    "id": "UVSpqw687PGt"
   },
   "source": [
    "**Average Blurr**"
   ]
  },
  {
   "cell_type": "code",
   "execution_count": null,
   "metadata": {
    "id": "XrPuUFKR7CXr"
   },
   "outputs": [],
   "source": [
    "blurred = cv2.blur(image, (3, 3))\n",
    "cv2_imshow(blurred)"
   ]
  },
  {
   "cell_type": "markdown",
   "metadata": {
    "id": "x8kD_i1u7RQi"
   },
   "source": [
    "**Gaussian Blur**"
   ]
  },
  {
   "cell_type": "code",
   "execution_count": null,
   "metadata": {
    "id": "9q69pszk7TFs"
   },
   "outputs": [],
   "source": [
    "blurred = cv2.GaussianBlur(image, (3, 3), 0)\n",
    "cv2_imshow(blurred)"
   ]
  },
  {
   "cell_type": "markdown",
   "metadata": {
    "id": "IPX1tWf47Zs-"
   },
   "source": [
    "**Median Blur**"
   ]
  },
  {
   "cell_type": "code",
   "execution_count": null,
   "metadata": {
    "id": "uBgmydZk7a3A"
   },
   "outputs": [],
   "source": [
    "blurred = cv2.medianBlur(image, 3)\n",
    "cv2_imshow(blurred)"
   ]
  },
  {
   "cell_type": "markdown",
   "metadata": {
    "id": "3PNsToXa7sGi"
   },
   "source": [
    "# **Thresholding**"
   ]
  },
  {
   "cell_type": "code",
   "execution_count": null,
   "metadata": {
    "id": "fylar-4f7w3d"
   },
   "outputs": [],
   "source": [
    "image = cv2.imread(\"machine_learning/OpenCv/images/opencv_logo.png\")\n",
    "blurred = cv2.cvtColor(image, cv2.COLOR_BGR2GRAY)\n",
    "cv2_imshow(image)"
   ]
  },
  {
   "cell_type": "code",
   "execution_count": null,
   "metadata": {
    "id": "tEn8kIjS8DW3"
   },
   "outputs": [],
   "source": [
    "# check; if a pixel value is greater than our threshold (in this\n",
    "# case, 200), we set it to be BLACK, otherwise it is WHITE.\n",
    "(T, threshInv) = cv2.threshold(blurred, 100, 255, cv2.THRESH_BINARY_INV)\n",
    "cv2_imshow(threshInv)"
   ]
  },
  {
   "cell_type": "code",
   "execution_count": null,
   "metadata": {
    "id": "jFds8bqv8HXo"
   },
   "outputs": [],
   "source": [
    "(T, thresh) = cv2.threshold(blurred, 100, 255, cv2.THRESH_BINARY)\n",
    "cv2_imshow(thresh)"
   ]
  },
  {
   "cell_type": "code",
   "execution_count": null,
   "metadata": {
    "id": "wqXEa5lO8NTj"
   },
   "outputs": [],
   "source": [
    "cv2_imshow(cv2.bitwise_and(image, image, mask=threshInv))"
   ]
  },
  {
   "cell_type": "markdown",
   "metadata": {
    "id": "Mo_qNGCL8d1T"
   },
   "source": [
    "**Otsu Thresholding**"
   ]
  },
  {
   "cell_type": "code",
   "execution_count": null,
   "metadata": {
    "id": "5vcZ2rsX8f7D"
   },
   "outputs": [],
   "source": [
    "(T, threshInv) = cv2.threshold(blurred, 0, 255,cv2.THRESH_BINARY_INV | cv2.THRESH_OTSU)\n",
    "cv2_imshow(threshInv)"
   ]
  },
  {
   "cell_type": "code",
   "execution_count": null,
   "metadata": {
    "id": "bmdpA6vH8l6P"
   },
   "outputs": [],
   "source": [
    "cv2_imshow(cv2.bitwise_and(image, image, mask=threshInv))"
   ]
  },
  {
   "cell_type": "markdown",
   "metadata": {
    "id": "joU9hz9u84KF"
   },
   "source": [
    "# **Contour**"
   ]
  },
  {
   "cell_type": "code",
   "execution_count": null,
   "metadata": {
    "id": "iDxwyFRV86-A"
   },
   "outputs": [],
   "source": [
    "image = cv2.imread(\"machine_learning/OpenCv/images/basic_shapes.png\")\n",
    "gray = cv2.cvtColor(image, cv2.COLOR_BGR2GRAY)\n",
    "cv2_imshow(image)"
   ]
  },
  {
   "cell_type": "markdown",
   "metadata": {
    "id": "9SGnVky59Vfq"
   },
   "source": [
    "**Internal contour**"
   ]
  },
  {
   "cell_type": "code",
   "execution_count": null,
   "metadata": {
    "id": "6vDH8vRG9MQh"
   },
   "outputs": [],
   "source": [
    "cnts = cv2.findContours(gray.copy(), cv2.RETR_LIST, cv2.CHAIN_APPROX_SIMPLE)\n",
    "cnts = cnts[0] if imutils.is_cv2() else cnts[1]\n",
    "clone = image.copy()\n",
    "cv2.drawContours(clone, cnts, -1, (0, 255, 0), 2)"
   ]
  },
  {
   "cell_type": "code",
   "execution_count": null,
   "metadata": {
    "id": "9xvVcy5N9N7h"
   },
   "outputs": [],
   "source": [
    "cv2_imshow(clone)"
   ]
  },
  {
   "cell_type": "markdown",
   "metadata": {
    "id": "_vL7nCCP9YdY"
   },
   "source": [
    "**External Contour**"
   ]
  },
  {
   "cell_type": "code",
   "execution_count": null,
   "metadata": {
    "id": "AJ5JyLVr9Urw"
   },
   "outputs": [],
   "source": [
    "cnts = cv2.findContours(gray.copy(), cv2.RETR_EXTERNAL, cv2.CHAIN_APPROX_SIMPLE)\n",
    "cnts = cnts[0] if imutils.is_cv2() else cnts[1]\n",
    "cv2.drawContours(clone, cnts, -1, (0, 255, 0), 2)"
   ]
  },
  {
   "cell_type": "code",
   "execution_count": null,
   "metadata": {
    "id": "dxCTp4GY9ek6"
   },
   "outputs": [],
   "source": [
    "for c in cnts:\n",
    "\t# construct a mask by drawing only the current contour\n",
    "\tmask = np.zeros(gray.shape, dtype=\"uint8\")\n",
    "\tcv2.drawContours(mask, [c], -1, 255, -1)\n",
    "\n",
    "\t# show the images\n",
    "\t#cv2.imshow(\"Image\", image)\n",
    "\t#cv2.imshow(\"Mask\", mask)\n",
    "\tcv2_imshow(cv2.bitwise_and(image, image, mask=mask))"
   ]
  },
  {
   "cell_type": "markdown",
   "metadata": {
    "id": "0g_q10_P9sBG"
   },
   "source": [
    "# **License Plate Detection**"
   ]
  },
  {
   "cell_type": "code",
   "execution_count": null,
   "metadata": {
    "id": "q2rl9zil9u9S"
   },
   "outputs": [],
   "source": [
    "image = cv2.imread(\"machine_learning/OpenCv/images/1.jpg\")\n",
    "image = imutils.resize(image, width=500)\n",
    "gray = cv2.cvtColor(image, cv2.COLOR_BGR2GRAY)"
   ]
  },
  {
   "cell_type": "code",
   "execution_count": null,
   "metadata": {
    "id": "GgBFimFd95x-"
   },
   "outputs": [],
   "source": [
    "cv2_imshow(image)"
   ]
  },
  {
   "cell_type": "code",
   "execution_count": null,
   "metadata": {
    "id": "z9hsqx4j98eg"
   },
   "outputs": [],
   "source": [
    "(T, threshInv) = cv2.threshold(gray, 0, 255,cv2.THRESH_BINARY_INV | cv2.THRESH_OTSU)\n",
    "cv2_imshow(threshInv)"
   ]
  },
  {
   "cell_type": "code",
   "execution_count": null,
   "metadata": {
    "id": "7gFnNGZB9gn9"
   },
   "outputs": [],
   "source": [
    "cnts = cv2.findContours(threshInv.copy(), cv2.RETR_LIST, cv2.CHAIN_APPROX_SIMPLE)\n",
    "cnts = cnts[0] if imutils.is_cv2() else cnts[1]\n",
    "clone = image.copy()\n",
    "\n",
    "for cnt in cnts:\n",
    "\tx,y,w,h = cv2.boundingRect(cnt)\n",
    "\t\n",
    "\tif (w<120 and w>90 and h<70 and h>30):\n",
    "\t\tprint (x,y,w,h)\n",
    "\t\tcv2.rectangle(image,(x,y),(x+w,y+h),(0,255,0),2)\n",
    "\t\tcv2_imshow(image)"
   ]
  }
 ],
 "metadata": {
  "colab": {
   "collapsed_sections": [],
   "include_colab_link": true,
   "name": "Untitled16.ipynb",
   "provenance": []
  },
  "kernelspec": {
   "display_name": "Python 3 (ipykernel)",
   "language": "python",
   "name": "python3"
  },
  "language_info": {
   "codemirror_mode": {
    "name": "ipython",
    "version": 3
   },
   "file_extension": ".py",
   "mimetype": "text/x-python",
   "name": "python",
   "nbconvert_exporter": "python",
   "pygments_lexer": "ipython3",
   "version": "3.10.1"
  }
 },
 "nbformat": 4,
 "nbformat_minor": 1
}
