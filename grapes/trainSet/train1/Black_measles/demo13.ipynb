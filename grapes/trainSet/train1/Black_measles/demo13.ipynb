{
 "cells": [
  {
   "cell_type": "code",
   "execution_count": 1,
   "id": "62392867",
   "metadata": {},
   "outputs": [],
   "source": [
    "import numpy as np\n",
    "import cv2\n",
    "from matplotlib import pyplot as plt"
   ]
  },
  {
   "cell_type": "code",
   "execution_count": 2,
   "id": "f98701b5",
   "metadata": {},
   "outputs": [],
   "source": [
    "def image_masking(filepath):\n",
    "\t\n",
    "\tBLUR = 21\n",
    "\tCANNY_THRESH_1 = 10\n",
    "\tCANNY_THRESH_2 = 200\n",
    "\tMASK_DILATE_ITER = 10\n",
    "\tMASK_ERODE_ITER = 10\n",
    "\tMASK_COLOR = (0.0,0.0,0.0) # In BGR format\n",
    "\t\n",
    "\timg = cv2.imread(filepath)\n",
    "\tgray = cv2.cvtColor(img,cv2.COLOR_BGR2GRAY)\n",
    "\t\n",
    "\tedges = cv2.Canny(gray, CANNY_THRESH_1, CANNY_THRESH_2)\n",
    "\tedges = cv2.dilate(edges, None)\n",
    "\tedges = cv2.erode(edges, None)\n",
    "\t\n",
    "\tcontour_info = []\n",
    "\tcontours, _ = cv2.findContours(edges, cv2.RETR_LIST, cv2.CHAIN_APPROX_NONE)\n",
    "\t\n",
    "\tfor c in contours:\n",
    "\t    contour_info.append((c, cv2.isContourConvex(c), cv2.contourArea(c),))\n",
    "\tcontour_info = sorted(contour_info, key=lambda c: c[2], reverse=True)\n",
    "\t\n",
    "\tmax_contour = contour_info[0]\n",
    "\tmask = np.zeros(edges.shape)\n",
    "\tcv2.fillConvexPoly(mask, max_contour[0], (255))\n",
    "\t\n",
    "\tmask = cv2.dilate(mask, None, iterations=MASK_DILATE_ITER)\n",
    "\tmask = cv2.erode(mask, None, iterations=MASK_ERODE_ITER)\n",
    "\tmask = cv2.GaussianBlur(mask, (BLUR, BLUR), 0)\n",
    "\t\n",
    "\tmask_stack = np.dstack([mask]*3)\n",
    "\tmask_stack  = mask_stack.astype('float32') / 255.0\n",
    "\timg = img.astype('float32') / 255.0\n",
    "\t\n",
    "\tmasked = (mask_stack * img) + ((1-mask_stack) * MASK_COLOR)\n",
    "\tmasked = (masked * 255).astype('uint8')\n",
    "\n",
    "\tfileName, fileExtension = filepath.split('.')\n",
    "\tfileName += '-masked.'\n",
    "\tfilepath = fileName + fileExtension\n",
    "\tprint(filepath)\n",
    "\n",
    "\tcv2.imwrite(filepath, masked)"
   ]
  },
  {
   "cell_type": "code",
   "execution_count": 3,
   "id": "c360173e",
   "metadata": {},
   "outputs": [
    {
     "name": "stdout",
     "output_type": "stream",
     "text": [
      "blackmeasles (1)-masked.jpg\n"
     ]
    }
   ],
   "source": [
    "img = 'blackmeasles (1).jpg'\n",
    "image_masking(img)"
   ]
  },
  {
   "cell_type": "code",
   "execution_count": 4,
   "id": "31356c7f",
   "metadata": {},
   "outputs": [],
   "source": [
    "def ProcessImage1(im):\n",
    "    resized = cv2.resize(im, (500,500))\n",
    "    cv2.imshow(\"Resized\", resized)\n",
    "    cv2.waitKey(0)\n",
    "    blurred = cv2.medianBlur(resized, 3)\n",
    "    #image = cv2.cvtColor(blurred, cv2.COLOR_BGR2HSV)\n",
    "    cv2.imshow(\"MedBlur\", blurred)\n",
    "    cv2.waitKey(0)\n",
    "    return(blurred)"
   ]
  },
  {
   "cell_type": "code",
   "execution_count": 27,
   "id": "8ab6c9e4",
   "metadata": {},
   "outputs": [],
   "source": [
    "def segment(image, threshold=25):\n",
    "    global bg\n",
    "    bg = image.copy()\n",
    "    # find the absolute difference between background and current frame\n",
    "    diff = cv2.absdiff(bg.astype(\"uint8\"), image)\n",
    "    cv2.imshow(\"diff\", diff)\n",
    "    cv2.waitKey(0)\n",
    "\n",
    "    # threshold the diff image so that we get the foreground\n",
    "    thresholded = cv2.threshold(diff, 0, 255, cv2.THRESH_BINARY | cv2.THRESH_OTSU)\n",
    "    \n",
    "    img = thresholded\n",
    "\n",
    "    # get the contours in the thresholded image\n",
    "    # _, cnts = cv2.findContours(img, cv2.RETR_EXTERNAL, cv2.CHAIN_APPROX_SIMPLE)\n",
    "    _, cnts = cv2.findContours(img, cv2.RETR_EXTERNAL, cv2.CHAIN_APPROX_SIMPLE)\n",
    "\n",
    "    # return None, if no contours detected\n",
    "    if len(cnts) == 0:\n",
    "        return\n",
    "    else:\n",
    "            # based on contour area, get the maximum contour which is the hand\n",
    "        segmented = max(cnts, key=cv2.contourArea)\n",
    "    cv2.imshow(\"thresholded\", thresholded)\n",
    "    cv2.waitKey(0)\n",
    "        \n",
    "    cv2.imshow(\"Segment\", segmented)\n",
    "    cv2.waitKey(0)\n",
    "    return (thresholded, segmented)\n"
   ]
  },
  {
   "cell_type": "code",
   "execution_count": 28,
   "id": "820b5a49",
   "metadata": {},
   "outputs": [
    {
     "ename": "error",
     "evalue": "OpenCV(4.5.4-dev) D:\\a\\opencv-python\\opencv-python\\opencv\\modules\\imgproc\\src\\thresh.cpp:1557: error: (-2:Unspecified error) in function 'double __cdecl cv::threshold(const class cv::_InputArray &,const class cv::_OutputArray &,double,double,int)'\n> THRESH_OTSU mode:\n>     'src_type == CV_8UC1 || src_type == CV_16UC1'\n> where\n>     'src_type' is 16 (CV_8UC3)\n",
     "output_type": "error",
     "traceback": [
      "\u001b[1;31m---------------------------------------------------------------------------\u001b[0m",
      "\u001b[1;31merror\u001b[0m                                     Traceback (most recent call last)",
      "\u001b[1;32mC:\\Users\\ADMINI~1\\AppData\\Local\\Temp/ipykernel_2628/3842904078.py\u001b[0m in \u001b[0;36m<module>\u001b[1;34m\u001b[0m\n\u001b[0;32m      4\u001b[0m \u001b[0mimg1\u001b[0m \u001b[1;33m=\u001b[0m \u001b[0mProcessImage1\u001b[0m\u001b[1;33m(\u001b[0m\u001b[0mimg\u001b[0m\u001b[1;33m)\u001b[0m\u001b[1;33m\u001b[0m\u001b[1;33m\u001b[0m\u001b[0m\n\u001b[0;32m      5\u001b[0m \u001b[1;33m\u001b[0m\u001b[0m\n\u001b[1;32m----> 6\u001b[1;33m \u001b[0msegment\u001b[0m\u001b[1;33m(\u001b[0m\u001b[0mimg1\u001b[0m\u001b[1;33m)\u001b[0m\u001b[1;33m\u001b[0m\u001b[1;33m\u001b[0m\u001b[0m\n\u001b[0m",
      "\u001b[1;32mC:\\Users\\ADMINI~1\\AppData\\Local\\Temp/ipykernel_2628/4168840106.py\u001b[0m in \u001b[0;36msegment\u001b[1;34m(image, threshold)\u001b[0m\n\u001b[0;32m      8\u001b[0m \u001b[1;33m\u001b[0m\u001b[0m\n\u001b[0;32m      9\u001b[0m     \u001b[1;31m# threshold the diff image so that we get the foreground\u001b[0m\u001b[1;33m\u001b[0m\u001b[1;33m\u001b[0m\u001b[0m\n\u001b[1;32m---> 10\u001b[1;33m     \u001b[0mthresholded\u001b[0m \u001b[1;33m=\u001b[0m \u001b[0mcv2\u001b[0m\u001b[1;33m.\u001b[0m\u001b[0mthreshold\u001b[0m\u001b[1;33m(\u001b[0m\u001b[0mdiff\u001b[0m\u001b[1;33m,\u001b[0m \u001b[1;36m0\u001b[0m\u001b[1;33m,\u001b[0m \u001b[1;36m255\u001b[0m\u001b[1;33m,\u001b[0m \u001b[0mcv2\u001b[0m\u001b[1;33m.\u001b[0m\u001b[0mTHRESH_BINARY\u001b[0m \u001b[1;33m|\u001b[0m \u001b[0mcv2\u001b[0m\u001b[1;33m.\u001b[0m\u001b[0mTHRESH_OTSU\u001b[0m\u001b[1;33m)\u001b[0m\u001b[1;33m\u001b[0m\u001b[1;33m\u001b[0m\u001b[0m\n\u001b[0m\u001b[0;32m     11\u001b[0m \u001b[1;33m\u001b[0m\u001b[0m\n\u001b[0;32m     12\u001b[0m     \u001b[0mimg\u001b[0m \u001b[1;33m=\u001b[0m \u001b[0mthresholded\u001b[0m\u001b[1;33m\u001b[0m\u001b[1;33m\u001b[0m\u001b[0m\n",
      "\u001b[1;31merror\u001b[0m: OpenCV(4.5.4-dev) D:\\a\\opencv-python\\opencv-python\\opencv\\modules\\imgproc\\src\\thresh.cpp:1557: error: (-2:Unspecified error) in function 'double __cdecl cv::threshold(const class cv::_InputArray &,const class cv::_OutputArray &,double,double,int)'\n> THRESH_OTSU mode:\n>     'src_type == CV_8UC1 || src_type == CV_16UC1'\n> where\n>     'src_type' is 16 (CV_8UC3)\n"
     ]
    }
   ],
   "source": [
    "img = cv2.imread('blackmeasles (1).jpg')\n",
    "\n",
    "#gray = cv2.cvtColor(img,cv2.COLOR_BGR2GRAY)\n",
    "img1 = ProcessImage1(img)\n",
    "\n",
    "segment(img1)\n"
   ]
  },
  {
   "cell_type": "code",
   "execution_count": null,
   "id": "33c338ab",
   "metadata": {},
   "outputs": [],
   "source": []
  }
 ],
 "metadata": {
  "kernelspec": {
   "display_name": "Python 3 (ipykernel)",
   "language": "python",
   "name": "python3"
  },
  "language_info": {
   "codemirror_mode": {
    "name": "ipython",
    "version": 3
   },
   "file_extension": ".py",
   "mimetype": "text/x-python",
   "name": "python",
   "nbconvert_exporter": "python",
   "pygments_lexer": "ipython3",
   "version": "3.9.7"
  }
 },
 "nbformat": 4,
 "nbformat_minor": 5
}
