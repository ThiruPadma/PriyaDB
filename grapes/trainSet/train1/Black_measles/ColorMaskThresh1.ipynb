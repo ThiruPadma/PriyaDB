{
 "cells": [
  {
   "cell_type": "code",
   "execution_count": 1,
   "id": "2081967a",
   "metadata": {},
   "outputs": [],
   "source": [
    "import cv2\n",
    "import matplotlib.pyplot as plt\n",
    "import numpy as np"
   ]
  },
  {
   "cell_type": "code",
   "execution_count": 2,
   "id": "f80c4886",
   "metadata": {},
   "outputs": [],
   "source": [
    "path = 'blackmeasles (1).jpg'\n",
    "img = cv2.imread(path)\n",
    "#img = cv2.resize(img,(256,256))"
   ]
  },
  {
   "cell_type": "code",
   "execution_count": 3,
   "id": "3cf1a1cc",
   "metadata": {},
   "outputs": [],
   "source": [
    "img = cv2.resize(img,(500, 500))\n",
    "img = cv2.medianBlur(img, 3)\n",
    "img_rgb=cv2.cvtColor(img,cv2.COLOR_BGR2RGB)\n",
    "img_gray=cv2.cvtColor(img_rgb,cv2.COLOR_RGB2GRAY)\n",
    "hsv_img = cv2.cvtColor(img_rgb, cv2.COLOR_RGB2HSV)"
   ]
  },
  {
   "cell_type": "code",
   "execution_count": 30,
   "id": "2ab19a33",
   "metadata": {},
   "outputs": [
    {
     "data": {
      "text/plain": [
       "-1"
      ]
     },
     "execution_count": 30,
     "metadata": {},
     "output_type": "execute_result"
    }
   ],
   "source": [
    "light_gray = (220, 220, 220)\n",
    "dark_gray = (192, 192, 192)\n",
    "\n",
    "light_br = (20, 100, 100)\n",
    "dark_br = (30, 255, 255)\n",
    "\n",
    "light_wh = (0, 0, 0)\n",
    "dark_wh = (0, 0, 255)\n",
    "\n",
    "light_bl = (0, 0, 0)\n",
    "dark_bl = (50, 50, 100)\n",
    "\n",
    "light_blu = (100, 30, 30)\n",
    "dark_blu = (150, 148, 255)\n",
    "\n",
    "\n",
    "maskBr = cv2.inRange(hsv_img, light_br, dark_br)\n",
    "maskGr = cv2.inRange(hsv_img, light_gray, dark_gray)\n",
    "maskWh = cv2.inRange(hsv_img, light_wh, dark_wh)\n",
    "maskBl = cv2.inRange(hsv_img, light_bl, dark_bl)\n",
    "maskBlu = cv2.inRange(hsv_img, light_blu, dark_blu)\n",
    "\n",
    "\n",
    "resultBr = cv2.bitwise_and(img, img, mask=maskBr)\n",
    "resultGr = cv2.bitwise_and(img, img, mask=maskGr)\n",
    "resultWh = cv2.bitwise_and(img, img, mask=maskWh)\n",
    "resultBl = cv2.bitwise_and(img, img, mask=maskBl)\n",
    "resultBlu = cv2.bitwise_and(img, img, mask=maskBlu)\n",
    "\n",
    "cv2.imshow(\"original\", resultBlu)\n",
    "cv2.waitKey(0)\n",
    "\n",
    "\n",
    "cv2.imshow(\"original\", img)\n",
    "cv2.waitKey(0)\n",
    "\n",
    "cv2.imshow(\"original\", resultBr)\n",
    "cv2.waitKey(0)\n",
    "\n",
    "cv2.imshow(\"original\", resultGr)\n",
    "cv2.waitKey(0)\n",
    "\n",
    "cv2.imshow(\"original\", resultWh)\n",
    "cv2.waitKey(0)\n",
    "\n",
    "cv2.imshow(\"original\", resultBl)\n",
    "cv2.waitKey(0)\n"
   ]
  },
  {
   "cell_type": "code",
   "execution_count": 27,
   "id": "7ea226cc",
   "metadata": {},
   "outputs": [
    {
     "name": "stdout",
     "output_type": "stream",
     "text": [
      "area\n",
      "34.5\n",
      "***\n",
      "area\n",
      "76.0\n",
      "***\n",
      "area\n",
      "20.0\n",
      "***\n",
      "area\n",
      "57.5\n",
      "***\n",
      "area\n",
      "20.0\n",
      "***\n",
      "###\n",
      "###\n",
      "###\n",
      "###\n",
      "###\n"
     ]
    },
    {
     "data": {
      "text/plain": [
       "-1"
      ]
     },
     "execution_count": 27,
     "metadata": {},
     "output_type": "execute_result"
    }
   ],
   "source": [
    "imageFr = img\n",
    "light_gray = np.array([220, 220, 220], np.uint8)\n",
    "dark_gray = np.array([192, 192, 192], np.uint8)\n",
    "\n",
    "\n",
    "lightRed = np.array([136, 87, 111], np.uint8)\n",
    "darkRed = np.array([180, 255, 255], np.uint8)\n",
    "\n",
    "\n",
    "\n",
    "light_br = np.array([20, 100, 100], np.uint8)\n",
    "dark_br = np.array([30, 255, 255], np.uint8)\n",
    "\n",
    "light_wh = np.array([0, 0, 0], np.uint8) #0,0,200    145, 60, 255\n",
    "dark_wh = np.array([0, 0, 255], np.uint8)\n",
    "\n",
    "light_bl = np.array([0, 0, 0], np.uint8)\n",
    "dark_bl = np.array([50, 50, 100], np.uint8)\n",
    "\n",
    "light_blu = np.array([100, 30, 30], np.uint8)\n",
    "dark_blu = np.array([150, 148, 255], np.uint8)\n",
    "\n",
    "lightGre = np.array([25, 52, 72], np.uint8)\n",
    "darkGre = np.array([102, 255, 255], np.uint8)\n",
    "\n",
    "maskRed = cv2.inRange(hsv_img, lightRed, darkRed)\n",
    "maskBr = cv2.inRange(hsv_img, light_br, dark_br)\n",
    "maskGre = cv2.inRange(hsv_img, lightGre, darkGre)\n",
    "maskGr = cv2.inRange(hsv_img, light_gray, dark_gray)\n",
    "maskWh = cv2.inRange(hsv_img, light_wh, dark_wh)\n",
    "maskBl = cv2.inRange(hsv_img, light_bl, dark_bl)\n",
    "maskBlu = cv2.inRange(hsv_img, light_blu, dark_blu)\n",
    "\n",
    "kernel = np.ones((5, 5), \"uint8\")\n",
    "\n",
    "maskBr = cv2.dilate(maskBr, kernel)\n",
    "resultBr = cv2.bitwise_and(img, img, mask=maskBr)\n",
    "\n",
    "\n",
    "maskRed = cv2.dilate(maskRed, kernel)\n",
    "resultRed = cv2.bitwise_and(img, img, mask = maskRed)\n",
    "\n",
    "maskGr = cv2.dilate(maskGr, kernel)\n",
    "resultGr = cv2.bitwise_and(img, img, mask=maskGr)\n",
    "\n",
    "maskWh = cv2.dilate(maskWh, kernel)\n",
    "resultWh = cv2.bitwise_and(img, img, mask=maskWh)\n",
    "\n",
    "maskBl = cv2.dilate(maskBl, kernel)\n",
    "resultBl = cv2.bitwise_and(img, img, mask=maskBl)\n",
    "\n",
    "maskBlu = cv2.dilate(maskBlu, kernel)\n",
    "resultBlu = cv2.bitwise_and(img, img, mask=maskBlu)\n",
    "\n",
    "maskGre = cv2.dilate(maskGre, kernel)\n",
    "resultGre = cv2.bitwise_and(img, img, mask = maskGre)\n",
    "\n",
    "#contours, hier = cv2.findContours(maskGre, cv2.RETR_TREE, cv2.CHAIN_APPROX_SIMPLE)\n",
    "\n",
    "#contours, hier = cv2.findContours(maskBr, cv2.RETR_TREE, cv2.CHAIN_APPROX_SIMPLE)\n",
    "contours, hier = cv2.findContours(maskBr, cv2.RETR_TREE, cv2.CHAIN_APPROX_SIMPLE)\n",
    "\n",
    "for pic, cntr in enumerate(contours):\n",
    "    ar = cv2.contourArea(cntr)\n",
    "    print(\"area\")\n",
    "    print(ar)\n",
    "    if(ar > 10):\n",
    "        x, y, w, h = cv2.boundingRect(cntr)\n",
    "        img = cv2.rectangle(img, (x, y), (x + w, y + h), (255, 0, 0), 2)\n",
    "        cv2.putText(img, \"Green Color\", (x, y), cv2.FONT_HERSHEY_SIMPLEX, 1.0, (255, 255, 255))\n",
    "        print(\"***\")\n",
    "cv2.imshow(\"imageFr\", img)\n",
    "cv2.waitKey(0)\n",
    "\n",
    "for c in contours:\n",
    "        M = cv2.moments(c)\n",
    "        if M[\"m00\"] != 0:\n",
    "            #####\n",
    "            (x,y),radius = cv2.minEnclosingCircle(c)\n",
    "            center = (int(x),int(y))\n",
    "            \n",
    "            radius = int(radius)\n",
    "            cX = int(M[\"m10\"] / M[\"m00\"])\n",
    "    \n",
    "            cY = int(M[\"m01\"] / M[\"m00\"])\n",
    "            #this condition is just to tell to detect in that area of the image only\n",
    "            if cX < 500 and radius < 8:\n",
    "                cv2.circle(img, (cX, cY), 2, (0,255,0), -1)\n",
    "                print(\"###\")\n",
    "    \n",
    "\n",
    "cv2.imshow(\"imageFr\", img)\n",
    "cv2.waitKey(0)"
   ]
  },
  {
   "cell_type": "code",
   "execution_count": null,
   "id": "8275f0ec",
   "metadata": {},
   "outputs": [],
   "source": []
  },
  {
   "cell_type": "code",
   "execution_count": null,
   "id": "bc61a2b5",
   "metadata": {},
   "outputs": [],
   "source": []
  },
  {
   "cell_type": "code",
   "execution_count": 32,
   "id": "37e690d4",
   "metadata": {},
   "outputs": [
    {
     "data": {
      "text/plain": [
       "-1"
      ]
     },
     "execution_count": 32,
     "metadata": {},
     "output_type": "execute_result"
    }
   ],
   "source": [
    "gray = cv2.cvtColor(img,cv2.COLOR_RGB2GRAY)\n",
    "_,thresh = cv2.threshold(gray, np.mean(gray), 255, cv2.THRESH_BINARY | cv2.THRESH_OTSU)\n",
    "\n",
    "for i in range(0, 6):\n",
    "\tdilated = cv2.dilate(thresh, None, iterations=i + 1)\n",
    "    \n",
    "#edges = cv2.dilate(cv2.Canny(thresh,0,255),None)\n",
    "cv2.imshow(\"original\", img)\n",
    "cv2.waitKey(0)\n",
    "\n",
    "cv2.imshow(\"original\", thresh)\n",
    "cv2.waitKey(0)\n",
    "\n",
    "cv2.imshow(\"original\", dilated)\n",
    "cv2.waitKey(0)\n"
   ]
  },
  {
   "cell_type": "code",
   "execution_count": 11,
   "id": "672bf0e7",
   "metadata": {},
   "outputs": [
    {
     "data": {
      "text/plain": [
       "-1"
      ]
     },
     "execution_count": 11,
     "metadata": {},
     "output_type": "execute_result"
    }
   ],
   "source": [
    "cnt = sorted(cv2.findContours(dilated, cv2.RETR_LIST, cv2.CHAIN_APPROX_SIMPLE)[-2], key=cv2.contourArea)[-1]\n",
    "mask = np.zeros((256,256), np.uint8)\n",
    "masked = cv2.drawContours(mask, [cnt],-1, 255, -1)\n",
    "cv2.imshow(\"Mask\", mask)\n",
    "cv2.waitKey(0)\n",
    "\n",
    "cv2.imshow(\"Masked\", masked)\n",
    "cv2.waitKey(0)\n",
    "\n"
   ]
  },
  {
   "cell_type": "code",
   "execution_count": 13,
   "id": "32baf9c3",
   "metadata": {},
   "outputs": [
    {
     "data": {
      "text/plain": [
       "-1"
      ]
     },
     "execution_count": 13,
     "metadata": {},
     "output_type": "execute_result"
    }
   ],
   "source": [
    "dst = cv2.bitwise_and(img, img, mask=mask)\n",
    "segmented = cv2.cvtColor(dst, cv2.COLOR_BGR2RGB)\n",
    "\n",
    "cv2.imshow(\"DST\", dst)\n",
    "cv2.waitKey(0)\n",
    "\n",
    "cv2.imshow(\"segmented\", segmented)\n",
    "cv2.waitKey(0)\n"
   ]
  },
  {
   "cell_type": "code",
   "execution_count": null,
   "id": "02c38c3d",
   "metadata": {},
   "outputs": [],
   "source": []
  }
 ],
 "metadata": {
  "kernelspec": {
   "display_name": "Python 3 (ipykernel)",
   "language": "python",
   "name": "python3"
  },
  "language_info": {
   "codemirror_mode": {
    "name": "ipython",
    "version": 3
   },
   "file_extension": ".py",
   "mimetype": "text/x-python",
   "name": "python",
   "nbconvert_exporter": "python",
   "pygments_lexer": "ipython3",
   "version": "3.9.7"
  }
 },
 "nbformat": 4,
 "nbformat_minor": 5
}
