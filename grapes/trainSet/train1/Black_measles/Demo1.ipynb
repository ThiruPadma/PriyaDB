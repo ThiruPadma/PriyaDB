{
 "cells": [
  {
   "cell_type": "code",
   "execution_count": 2,
   "id": "0d7a4176",
   "metadata": {},
   "outputs": [],
   "source": [
    "import numpy as np\n",
    "import cv2\n",
    "from skimage import io\n",
    "from tkinter import filedialog\n",
    "import tkinter\n",
    "import sys"
   ]
  },
  {
   "cell_type": "code",
   "execution_count": 3,
   "id": "c960ca50",
   "metadata": {},
   "outputs": [
    {
     "data": {
      "text/plain": [
       "''"
      ]
     },
     "execution_count": 3,
     "metadata": {},
     "output_type": "execute_result"
    }
   ],
   "source": [
    "Alpha = None\n",
    "MainWindow = tkinter.Tk()\n",
    "MainWindow.title(\"Plant Disease Detector by Nahush Kulkarni\")"
   ]
  },
  {
   "cell_type": "code",
   "execution_count": 4,
   "id": "fd7188af",
   "metadata": {},
   "outputs": [],
   "source": [
    "S = tkinter.Scale(MainWindow, from_=0, to=255, length=500, orient=tkinter.HORIZONTAL,\n",
    "                  background='white', fg='black', troughcolor='white', label=\"Processing Factor\")\n",
    "S.pack()\n",
    "S.set(150)\n",
    "\n",
    "DiseasePercent = tkinter.StringVar()\n",
    "L = tkinter.Label(MainWindow, textvariable=DiseasePercent)\n",
    "L.pack()\n",
    "\n"
   ]
  },
  {
   "cell_type": "code",
   "execution_count": 5,
   "id": "ebccaa0e",
   "metadata": {},
   "outputs": [
    {
     "data": {
      "text/plain": [
       "-1"
      ]
     },
     "execution_count": 5,
     "metadata": {},
     "output_type": "execute_result"
    }
   ],
   "source": [
    "file = 'blackmeasles (1).jpg'\n",
    "image = io.imread(file, format = 'JPG')\n",
    "image = cv2.resize(image, (256, 256))\n",
    "cv2.imshow('leaf1', image)\n",
    "cv2.waitKey(0)"
   ]
  },
  {
   "cell_type": "code",
   "execution_count": 6,
   "id": "88c54209",
   "metadata": {},
   "outputs": [],
   "source": [
    "def DisplayDiseasePercentage(Disease):\n",
    "    Count = 0\n",
    "    Res = 0\n",
    "    for i in range(0, Disease.shape[0]):\n",
    "        for j in range(0, Disease.shape[1]):\n",
    "            if Alpha[i, j] == 0:\n",
    "                Res += 1\n",
    "            if Disease[i, j] < S.get():\n",
    "                Count += 1\n",
    "    Percent = (Count / Res) * 100\n",
    "    DiseasePercent.set(\"Percentage Disease: \" + str(round(Percent, 2)) + \"%\")"
   ]
  },
  {
   "cell_type": "code",
   "execution_count": 7,
   "id": "8c951bd6",
   "metadata": {},
   "outputs": [],
   "source": [
    "def GetAlpha(OriginalImage):\n",
    "    global Alpha\n",
    "    for i in range(0, OriginalImage.shape[0]):\n",
    "        for j in range(0, OriginalImage.shape[1]):\n",
    "            if OriginalImage[i, j, 0] > 200 and OriginalImage[i, j, 1] > 200 and OriginalImage[i, j, 2] > 200:\n",
    "                Alpha[i, j] = 255\n",
    "            else:\n",
    "                Alpha[i, j] = 0"
   ]
  },
  {
   "cell_type": "code",
   "execution_count": 8,
   "id": "16d6f0d5",
   "metadata": {},
   "outputs": [],
   "source": [
    "def ProcessImage():\n",
    "    OriginalImage = cv2.imread(file, 1)\n",
    "    cv2.imshow(\"Original Image\", OriginalImage)\n",
    "    b = OriginalImage[:, :, 0]\n",
    "    g = OriginalImage[:, :, 1]\n",
    "    r = OriginalImage[:, :, 2]\n",
    "    cv2.imshow(\"Red Channel\", r)\n",
    "    cv2.imshow(\"Green Channel\", g)\n",
    "    cv2.imshow(\"Blue Channel\", b)\n",
    "    Disease = r - g\n",
    "    global Alpha\n",
    "    Alpha = b\n",
    "    GetAlpha(OriginalImage)\n",
    "    cv2.imshow(\"Alpha Channel\", Alpha)\n",
    "    ProcessingFactor = S.get()\n",
    "    print('ProcessingFactor is ', ProcessingFactor)\n",
    "    for i in range(0, OriginalImage.shape[0]):\n",
    "        for j in range(0, OriginalImage.shape[1]):\n",
    "            if int(g[i, j]) > ProcessingFactor:\n",
    "                Disease[i, j] = 255\n",
    "    cv2.imshow(\"Disease Image\", Disease)\n",
    "    DisplayDiseasePercentage(Disease)\n",
    "    S.bind('<ButtonRelease-1>', ProcessImage)\n",
    "    cv2.waitKey(0)\n"
   ]
  },
  {
   "cell_type": "code",
   "execution_count": 9,
   "id": "528027b9",
   "metadata": {},
   "outputs": [
    {
     "name": "stdout",
     "output_type": "stream",
     "text": [
      "ProcessingFactor is  150\n"
     ]
    }
   ],
   "source": [
    "filename = file\n",
    "if filename != \"\":\n",
    "    ProcessImage()\n",
    "else:\n",
    "    print(\"No File!\")\n",
    "    exit(0)\n",
    "\n"
   ]
  },
  {
   "cell_type": "code",
   "execution_count": null,
   "id": "0849553a",
   "metadata": {},
   "outputs": [],
   "source": []
  }
 ],
 "metadata": {
  "kernelspec": {
   "display_name": "Python 3 (ipykernel)",
   "language": "python",
   "name": "python3"
  },
  "language_info": {
   "codemirror_mode": {
    "name": "ipython",
    "version": 3
   },
   "file_extension": ".py",
   "mimetype": "text/x-python",
   "name": "python",
   "nbconvert_exporter": "python",
   "pygments_lexer": "ipython3",
   "version": "3.9.7"
  }
 },
 "nbformat": 4,
 "nbformat_minor": 5
}
