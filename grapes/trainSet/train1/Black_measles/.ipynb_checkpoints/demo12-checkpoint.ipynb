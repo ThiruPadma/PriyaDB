{
 "cells": [
  {
   "cell_type": "code",
   "execution_count": 1,
   "id": "62392867",
   "metadata": {},
   "outputs": [],
   "source": [
    "import numpy as np\n",
    "import cv2\n",
    "from matplotlib import pyplot as plt"
   ]
  },
  {
   "cell_type": "code",
   "execution_count": 10,
   "id": "e30fae1d",
   "metadata": {},
   "outputs": [],
   "source": [
    "def ProcessImage(im):\n",
    "    resized = cv2.resize(im, (500,500))\n",
    "    cv2.imshow(\"Resized\", resized)\n",
    "    cv2.waitKey(0)\n",
    "    blurred = cv2.medianBlur(resized, 3)\n",
    "    cv2.imshow(\"MedBlur\", blurred)\n",
    "    cv2.waitKey(0)\n",
    "    image = cv2.cvtColor(blurred, cv2.COLOR_BGR2RGB)\n",
    "    OriginalImage = image\n",
    "    cv2.imshow(\"Orginal\", OriginalImage)\n",
    "    cv2.waitKey(0)\n",
    "    cv2.imshow(\"Original Image\", image)\n",
    "    b = OriginalImage[:, :, 0]\n",
    "    g = OriginalImage[:, :, 1]\n",
    "    r = OriginalImage[:, :, 2]\n",
    "    #ng = invert(g)\n",
    "    #cv2.imshow(\"Red Channel\", r)\n",
    "    #cv2.imshow(\"Green Channel\", g)\n",
    "    #cv2.imshow(\"Blue Channel\", b)\n",
    "    \n",
    "    Disease = r - g\n",
    "    \n",
    "    #nd = invert(Disease)\n",
    "    cv2.imshow(\"disease\", Disease)\n",
    "    cv2.waitKey(0)\n",
    "    \n",
    "    \n",
    "    #equ = cv2.equalizeHist(Disease)\n",
    "    \n",
    "    #cv2.imshow(\"EQ\", equ)\n",
    "    return(Disease)"
   ]
  },
  {
   "cell_type": "code",
   "execution_count": 11,
   "id": "aac0f51a",
   "metadata": {},
   "outputs": [
    {
     "data": {
      "text/plain": [
       "-1"
      ]
     },
     "execution_count": 11,
     "metadata": {},
     "output_type": "execute_result"
    }
   ],
   "source": [
    "img = cv2.imread('blackmeasles (1).jpg')\n",
    "\n",
    "#gray = cv2.cvtColor(img,cv2.COLOR_BGR2GRAY)\n",
    "gray = ProcessImage(img)\n",
    "ret, thresh = cv2.threshold(gray,0,255,cv2.THRESH_BINARY+cv2.THRESH_OTSU)\n",
    "cv2.imshow(\"thresh\", thresh)\n",
    "cv2.waitKey(0)"
   ]
  },
  {
   "cell_type": "code",
   "execution_count": 8,
   "id": "9d587722",
   "metadata": {},
   "outputs": [],
   "source": [
    "def ProcessImage1(im):\n",
    "    resized = cv2.resize(im, (500,500))\n",
    "    cv2.imshow(\"Resized\", resized)\n",
    "    cv2.waitKey(0)\n",
    "    blurred = cv2.medianBlur(resized, 3)\n",
    "    cv2.imshow(\"MedBlur\", blurred)\n",
    "    cv2.waitKey(0)\n",
    "    return(blurred)"
   ]
  },
  {
   "cell_type": "code",
   "execution_count": 9,
   "id": "ca9407b8",
   "metadata": {},
   "outputs": [
    {
     "data": {
      "text/plain": [
       "-1"
      ]
     },
     "execution_count": 9,
     "metadata": {},
     "output_type": "execute_result"
    }
   ],
   "source": [
    "img = cv2.imread('blackmeasles (1).jpg')\n",
    "\n",
    "#gray = cv2.cvtColor(img,cv2.COLOR_BGR2GRAY)\n",
    "gray = ProcessImage1(img)\n",
    "light_br = (20, 100, 100)\n",
    "dark_br = (30, 255, 255)\n",
    "\n",
    "\n",
    "\n",
    "maskBr = cv2.inRange(gray, light_br, dark_br)\n",
    "\n",
    "resultBr = cv2.bitwise_and(gray, gray, mask=maskBr)\n",
    "\n",
    "cv2.imshow(\"original\", resultBr)\n",
    "cv2.waitKey(0)"
   ]
  },
  {
   "cell_type": "code",
   "execution_count": 8,
   "id": "5c917b22",
   "metadata": {},
   "outputs": [
    {
     "data": {
      "text/plain": [
       "-1"
      ]
     },
     "execution_count": 8,
     "metadata": {},
     "output_type": "execute_result"
    }
   ],
   "source": [
    "# noise removal\n",
    "kernel = np.ones((3,3),np.uint8)\n",
    "opening = cv2.morphologyEx(thresh,cv2.MORPH_OPEN,kernel, iterations = 2)\n",
    "\n",
    "# sure background area\n",
    "sure_bg = cv2.dilate(opening,kernel,iterations=3)\n",
    "\n",
    "# Finding sure foreground area\n",
    "dist_transform = cv2.distanceTransform(opening,cv2.DIST_L2,5)\n",
    "ret, sure_fg = cv2.threshold(dist_transform,0.7*dist_transform.max(),255,0)\n",
    "cv2.imshow(\"fg\", sure_fg)\n",
    "cv2.waitKey(0)\n",
    "\n",
    "# Finding unknown region\n",
    "sure_fg = np.uint8(sure_fg)\n",
    "unknown = cv2.subtract(sure_bg,sure_fg)\n",
    "\n",
    "cv2.imshow(\"kernel\", kernel)\n",
    "cv2.waitKey(0)\n",
    "cv2.imshow(\"opening\", opening)\n",
    "cv2.waitKey(0)\n",
    "cv2.imshow(\"dist\", dist_transform)\n",
    "cv2.waitKey(0)\n",
    "cv2.imshow(\"fg\", sure_fg)\n",
    "cv2.waitKey(0)\n",
    "\n",
    "cv2.imshow(\"Un\", unknown)\n",
    "cv2.waitKey(0)\n",
    "\n"
   ]
  },
  {
   "cell_type": "code",
   "execution_count": 4,
   "id": "05bbd6b8",
   "metadata": {},
   "outputs": [
    {
     "ename": "error",
     "evalue": "OpenCV(4.5.4-dev) D:/a/opencv-python/opencv-python/opencv/modules/highgui/src/precomp.hpp:155: error: (-215:Assertion failed) src_depth != CV_16F && src_depth != CV_32S in function 'convertToShow'\n",
     "output_type": "error",
     "traceback": [
      "\u001b[1;31m---------------------------------------------------------------------------\u001b[0m",
      "\u001b[1;31merror\u001b[0m                                     Traceback (most recent call last)",
      "\u001b[1;32mC:\\Users\\ADMINI~1\\AppData\\Local\\Temp/ipykernel_15140/261494107.py\u001b[0m in \u001b[0;36m<module>\u001b[1;34m\u001b[0m\n\u001b[0;32m     12\u001b[0m \u001b[0mmarkers\u001b[0m\u001b[1;33m[\u001b[0m\u001b[0munknown\u001b[0m\u001b[1;33m==\u001b[0m\u001b[1;36m255\u001b[0m\u001b[1;33m]\u001b[0m \u001b[1;33m=\u001b[0m \u001b[1;36m0\u001b[0m\u001b[1;33m\u001b[0m\u001b[1;33m\u001b[0m\u001b[0m\n\u001b[0;32m     13\u001b[0m \u001b[1;33m\u001b[0m\u001b[0m\n\u001b[1;32m---> 14\u001b[1;33m \u001b[0mcv2\u001b[0m\u001b[1;33m.\u001b[0m\u001b[0mimshow\u001b[0m\u001b[1;33m(\u001b[0m\u001b[1;34m\"markers\"\u001b[0m\u001b[1;33m,\u001b[0m \u001b[0mmarkers\u001b[0m\u001b[1;33m)\u001b[0m\u001b[1;33m\u001b[0m\u001b[1;33m\u001b[0m\u001b[0m\n\u001b[0m\u001b[0;32m     15\u001b[0m \u001b[0mcv2\u001b[0m\u001b[1;33m.\u001b[0m\u001b[0mwaitKey\u001b[0m\u001b[1;33m(\u001b[0m\u001b[1;36m0\u001b[0m\u001b[1;33m)\u001b[0m\u001b[1;33m\u001b[0m\u001b[1;33m\u001b[0m\u001b[0m\n",
      "\u001b[1;31merror\u001b[0m: OpenCV(4.5.4-dev) D:/a/opencv-python/opencv-python/opencv/modules/highgui/src/precomp.hpp:155: error: (-215:Assertion failed) src_depth != CV_16F && src_depth != CV_32S in function 'convertToShow'\n"
     ]
    }
   ],
   "source": [
    "# Marker labelling\n",
    "ret, markers = cv2.connectedComponents(sure_fg)\n",
    "\n",
    "\n",
    "# Add one to all labels so that sure background is not 0, but 1\n",
    "markers = markers+1\n",
    "\n",
    "\n",
    "\n",
    "\n",
    "# Now, mark the region of unknown with zero\n",
    "markers[unknown==255] = 0\n",
    "\n",
    "cv2.imshow(\"markers\", markers)\n",
    "cv2.waitKey(0)"
   ]
  },
  {
   "cell_type": "code",
   "execution_count": null,
   "id": "33c338ab",
   "metadata": {},
   "outputs": [],
   "source": []
  }
 ],
 "metadata": {
  "kernelspec": {
   "display_name": "Python 3 (ipykernel)",
   "language": "python",
   "name": "python3"
  },
  "language_info": {
   "codemirror_mode": {
    "name": "ipython",
    "version": 3
   },
   "file_extension": ".py",
   "mimetype": "text/x-python",
   "name": "python",
   "nbconvert_exporter": "python",
   "pygments_lexer": "ipython3",
   "version": "3.9.7"
  }
 },
 "nbformat": 4,
 "nbformat_minor": 5
}
