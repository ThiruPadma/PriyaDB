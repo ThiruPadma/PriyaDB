{
 "cells": [
  {
   "cell_type": "code",
   "execution_count": 24,
   "id": "2081967a",
   "metadata": {},
   "outputs": [],
   "source": [
    "import cv2\n",
    "import matplotlib.pyplot as plt\n",
    "import numpy as np"
   ]
  },
  {
   "cell_type": "code",
   "execution_count": 25,
   "id": "f80c4886",
   "metadata": {},
   "outputs": [],
   "source": [
    "path = 'blackmeasles (1).jpg'\n",
    "img = cv2.imread(path)\n",
    "#img = cv2.resize(img,(256,256))"
   ]
  },
  {
   "cell_type": "code",
   "execution_count": 27,
   "id": "3cf1a1cc",
   "metadata": {},
   "outputs": [],
   "source": [
    "img_rgb=cv2.cvtColor(img,cv2.COLOR_BGR2RGB)\n",
    "img_gray=cv2.cvtColor(img_rgb,cv2.COLOR_RGB2GRAY)\n",
    "hsv_img = cv2.cvtColor(img_rgb, cv2.COLOR_RGB2HSV)"
   ]
  },
  {
   "cell_type": "code",
   "execution_count": 30,
   "id": "2ab19a33",
   "metadata": {},
   "outputs": [
    {
     "data": {
      "text/plain": [
       "-1"
      ]
     },
     "execution_count": 30,
     "metadata": {},
     "output_type": "execute_result"
    }
   ],
   "source": [
    "light_gray = (220, 220, 220)\n",
    "dark_gray = (192, 192, 192)\n",
    "\n",
    "light_br = (20, 100, 100)\n",
    "dark_br = (30, 255, 255)\n",
    "\n",
    "light_wh = (0, 0, 0)\n",
    "dark_wh = (0, 0, 255)\n",
    "\n",
    "light_bl = (0, 0, 0)\n",
    "dark_bl = (50, 50, 100)\n",
    "\n",
    "light_blu = (100, 30, 30)\n",
    "dark_blu = (150, 148, 255)\n",
    "\n",
    "\n",
    "maskBr = cv2.inRange(hsv_img, light_br, dark_br)\n",
    "maskGr = cv2.inRange(hsv_img, light_gray, dark_gray)\n",
    "maskWh = cv2.inRange(hsv_img, light_wh, dark_wh)\n",
    "maskBl = cv2.inRange(hsv_img, light_bl, dark_bl)\n",
    "maskBlu = cv2.inRange(hsv_img, light_blu, dark_blu)\n",
    "\n",
    "\n",
    "resultBr = cv2.bitwise_and(img, img, mask=maskBr)\n",
    "resultGr = cv2.bitwise_and(img, img, mask=maskGr)\n",
    "resultWh = cv2.bitwise_and(img, img, mask=maskWh)\n",
    "resultBl = cv2.bitwise_and(img, img, mask=maskBl)\n",
    "resultBlu = cv2.bitwise_and(img, img, mask=maskBlu)\n",
    "\n",
    "cv2.imshow(\"original\", resultBlu)\n",
    "cv2.waitKey(0)\n",
    "\n",
    "\n",
    "cv2.imshow(\"original\", img)\n",
    "cv2.waitKey(0)\n",
    "\n",
    "cv2.imshow(\"original\", resultBr)\n",
    "cv2.waitKey(0)\n",
    "\n",
    "cv2.imshow(\"original\", resultGr)\n",
    "cv2.waitKey(0)\n",
    "\n",
    "cv2.imshow(\"original\", resultWh)\n",
    "cv2.waitKey(0)\n",
    "\n",
    "cv2.imshow(\"original\", resultBl)\n",
    "cv2.waitKey(0)\n"
   ]
  },
  {
   "cell_type": "code",
   "execution_count": 21,
   "id": "7ea226cc",
   "metadata": {},
   "outputs": [
    {
     "ename": "error",
     "evalue": "OpenCV(4.5.4-dev) :-1: error: (-5:Bad argument) in function 'imshow'\n> Overload resolution failed:\n>  - mat data type = 0 is not supported\n>  - Expected Ptr<cv::cuda::GpuMat> for argument 'mat'\n>  - Expected Ptr<cv::UMat> for argument 'mat'\n",
     "output_type": "error",
     "traceback": [
      "\u001b[1;31m---------------------------------------------------------------------------\u001b[0m",
      "\u001b[1;31merror\u001b[0m                                     Traceback (most recent call last)",
      "\u001b[1;32mC:\\Users\\ADMINI~1\\AppData\\Local\\Temp/ipykernel_2664/945095673.py\u001b[0m in \u001b[0;36m<module>\u001b[1;34m\u001b[0m\n\u001b[0;32m      5\u001b[0m \u001b[0mcv2\u001b[0m\u001b[1;33m.\u001b[0m\u001b[0mwaitKey\u001b[0m\u001b[1;33m(\u001b[0m\u001b[1;36m0\u001b[0m\u001b[1;33m)\u001b[0m\u001b[1;33m\u001b[0m\u001b[1;33m\u001b[0m\u001b[0m\n\u001b[0;32m      6\u001b[0m \u001b[1;33m\u001b[0m\u001b[0m\n\u001b[1;32m----> 7\u001b[1;33m \u001b[0mcv2\u001b[0m\u001b[1;33m.\u001b[0m\u001b[0mimshow\u001b[0m\u001b[1;33m(\u001b[0m\u001b[1;34m\"original\"\u001b[0m\u001b[1;33m,\u001b[0m \u001b[0mimg_otsu\u001b[0m\u001b[1;33m)\u001b[0m\u001b[1;33m\u001b[0m\u001b[1;33m\u001b[0m\u001b[0m\n\u001b[0m\u001b[0;32m      8\u001b[0m \u001b[0mcv2\u001b[0m\u001b[1;33m.\u001b[0m\u001b[0mwaitKey\u001b[0m\u001b[1;33m(\u001b[0m\u001b[1;36m0\u001b[0m\u001b[1;33m)\u001b[0m\u001b[1;33m\u001b[0m\u001b[1;33m\u001b[0m\u001b[0m\n\u001b[0;32m      9\u001b[0m \u001b[1;33m\u001b[0m\u001b[0m\n",
      "\u001b[1;31merror\u001b[0m: OpenCV(4.5.4-dev) :-1: error: (-5:Bad argument) in function 'imshow'\n> Overload resolution failed:\n>  - mat data type = 0 is not supported\n>  - Expected Ptr<cv::cuda::GpuMat> for argument 'mat'\n>  - Expected Ptr<cv::UMat> for argument 'mat'\n"
     ]
    }
   ],
   "source": []
  },
  {
   "cell_type": "code",
   "execution_count": null,
   "id": "8275f0ec",
   "metadata": {},
   "outputs": [],
   "source": []
  },
  {
   "cell_type": "code",
   "execution_count": null,
   "id": "bc61a2b5",
   "metadata": {},
   "outputs": [],
   "source": []
  },
  {
   "cell_type": "code",
   "execution_count": 32,
   "id": "37e690d4",
   "metadata": {},
   "outputs": [
    {
     "data": {
      "text/plain": [
       "-1"
      ]
     },
     "execution_count": 32,
     "metadata": {},
     "output_type": "execute_result"
    }
   ],
   "source": [
    "gray = cv2.cvtColor(img,cv2.COLOR_RGB2GRAY)\n",
    "_,thresh = cv2.threshold(gray, np.mean(gray), 255, cv2.THRESH_BINARY | cv2.THRESH_OTSU)\n",
    "\n",
    "for i in range(0, 6):\n",
    "\tdilated = cv2.dilate(thresh, None, iterations=i + 1)\n",
    "    \n",
    "#edges = cv2.dilate(cv2.Canny(thresh,0,255),None)\n",
    "cv2.imshow(\"original\", img)\n",
    "cv2.waitKey(0)\n",
    "\n",
    "cv2.imshow(\"original\", thresh)\n",
    "cv2.waitKey(0)\n",
    "\n",
    "cv2.imshow(\"original\", dilated)\n",
    "cv2.waitKey(0)\n"
   ]
  },
  {
   "cell_type": "code",
   "execution_count": 11,
   "id": "672bf0e7",
   "metadata": {},
   "outputs": [
    {
     "data": {
      "text/plain": [
       "-1"
      ]
     },
     "execution_count": 11,
     "metadata": {},
     "output_type": "execute_result"
    }
   ],
   "source": [
    "cnt = sorted(cv2.findContours(dilated, cv2.RETR_LIST, cv2.CHAIN_APPROX_SIMPLE)[-2], key=cv2.contourArea)[-1]\n",
    "mask = np.zeros((256,256), np.uint8)\n",
    "masked = cv2.drawContours(mask, [cnt],-1, 255, -1)\n",
    "cv2.imshow(\"Mask\", mask)\n",
    "cv2.waitKey(0)\n",
    "\n",
    "cv2.imshow(\"Masked\", masked)\n",
    "cv2.waitKey(0)\n",
    "\n"
   ]
  },
  {
   "cell_type": "code",
   "execution_count": 13,
   "id": "32baf9c3",
   "metadata": {},
   "outputs": [
    {
     "data": {
      "text/plain": [
       "-1"
      ]
     },
     "execution_count": 13,
     "metadata": {},
     "output_type": "execute_result"
    }
   ],
   "source": [
    "dst = cv2.bitwise_and(img, img, mask=mask)\n",
    "segmented = cv2.cvtColor(dst, cv2.COLOR_BGR2RGB)\n",
    "\n",
    "cv2.imshow(\"DST\", dst)\n",
    "cv2.waitKey(0)\n",
    "\n",
    "cv2.imshow(\"segmented\", segmented)\n",
    "cv2.waitKey(0)\n"
   ]
  },
  {
   "cell_type": "code",
   "execution_count": null,
   "id": "02c38c3d",
   "metadata": {},
   "outputs": [],
   "source": []
  }
 ],
 "metadata": {
  "kernelspec": {
   "display_name": "Python 3 (ipykernel)",
   "language": "python",
   "name": "python3"
  },
  "language_info": {
   "codemirror_mode": {
    "name": "ipython",
    "version": 3
   },
   "file_extension": ".py",
   "mimetype": "text/x-python",
   "name": "python",
   "nbconvert_exporter": "python",
   "pygments_lexer": "ipython3",
   "version": "3.9.7"
  }
 },
 "nbformat": 4,
 "nbformat_minor": 5
}
