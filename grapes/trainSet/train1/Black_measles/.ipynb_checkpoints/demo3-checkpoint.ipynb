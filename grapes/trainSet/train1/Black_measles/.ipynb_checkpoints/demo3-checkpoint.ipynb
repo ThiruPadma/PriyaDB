{
 "cells": [
  {
   "cell_type": "code",
   "execution_count": 1,
   "id": "dfbd9a9d",
   "metadata": {},
   "outputs": [],
   "source": [
    "import numpy as np\n",
    "import cv2"
   ]
  },
  {
   "cell_type": "code",
   "execution_count": 2,
   "id": "37756398",
   "metadata": {},
   "outputs": [],
   "source": [
    "file = 'blackmeasles (1).jpg'\n",
    "image = cv2.imread(file)\n",
    "image = cv2.resize(image, (256, 256))\n",
    "cv2.imshow('leaf1', image)"
   ]
  },
  {
   "cell_type": "code",
   "execution_count": 27,
   "id": "dcd4387c",
   "metadata": {},
   "outputs": [],
   "source": [
    "boundaries = [\n",
    "    ([17, 15, 100], [50, 56, 200]),\n",
    "    ([86, 31, 4], [220, 88, 50]),\n",
    "    ([25, 146, 190], [62, 174, 250]),\n",
    "    ([103, 86, 65], [145, 133, 128])\n",
    "]"
   ]
  },
  {
   "cell_type": "code",
   "execution_count": 28,
   "id": "c67513a1",
   "metadata": {},
   "outputs": [],
   "source": [
    "for (lower, upper) in boundaries:\n",
    "    lower = np.array(lower, dtype = \"uint8\")\n",
    "    upper = np.array(upper, dtype = \"uint8\")\n",
    "    \n",
    "    mask = cv2.inRange(image, lower, upper)\n",
    "    output = cv2.bitwise_and(image, image, mask = mask)\n",
    "\n",
    "    cv2.imshow(\"images\", np.hstack([image, output]))\n",
    "    cv2.waitKey(0)"
   ]
  },
  {
   "cell_type": "code",
   "execution_count": 29,
   "id": "b0a3eba7",
   "metadata": {},
   "outputs": [],
   "source": [
    "def segment_colorfulness(image, mask):\n",
    "\t(B, G, R) = cv2.split(image.astype(\"float\"))\n",
    "\tR = np.ma.masked_array(R, mask=mask)\n",
    "\tG = np.ma.masked_array(B, mask=mask)\n",
    "\tB = np.ma.masked_array(B, mask=mask)\n",
    "\n",
    "\trg = np.absolute(R - G)\n",
    "\n",
    "\tyb = np.absolute(0.5 * (R + G) - B)\n",
    "\n",
    "\tstdRoot = np.sqrt((rg.std() ** 2) + (yb.std() ** 2))\n",
    "\tmeanRoot = np.sqrt((rg.mean() ** 2) + (yb.mean() ** 2))\n",
    "\n",
    "\treturn stdRoot + (0.3 * meanRoot)"
   ]
  },
  {
   "cell_type": "code",
   "execution_count": 30,
   "id": "fdb23912",
   "metadata": {},
   "outputs": [],
   "source": [
    "orig = cv2.imread(file)\n",
    "vis = np.zeros(orig.shape[:2], dtype=\"float\")"
   ]
  },
  {
   "cell_type": "code",
   "execution_count": 32,
   "id": "ef145ebf",
   "metadata": {},
   "outputs": [],
   "source": [
    "from skimage import io\n",
    "from skimage.segmentation import slic\n",
    "from skimage.util import img_as_float\n",
    "from skimage.exposure import rescale_intensity"
   ]
  },
  {
   "cell_type": "code",
   "execution_count": 35,
   "id": "1390a92a",
   "metadata": {},
   "outputs": [],
   "source": [
    "image = io.imread(file, format = 'JPG')\n",
    "segments = slic(img_as_float(image), n_segments=50,\n",
    "\tslic_zero=True, start_label=1)"
   ]
  },
  {
   "cell_type": "code",
   "execution_count": 36,
   "id": "886f29b4",
   "metadata": {},
   "outputs": [],
   "source": [
    "for v in np.unique(segments):\n",
    "\tmask = np.ones(image.shape[:2])\n",
    "\tmask[segments == v] = 0\n",
    "\n",
    "\tC = segment_colorfulness(orig, mask)\n",
    "\tvis[segments == v] = C\n",
    "\n",
    "vis = rescale_intensity(vis, out_range=(0, 255)).astype(\"uint8\")\n"
   ]
  },
  {
   "cell_type": "code",
   "execution_count": null,
   "id": "0fd7ca65",
   "metadata": {},
   "outputs": [],
   "source": [
    "alpha = 0.6\n",
    "overlay = np.dstack([vis] * 3)\n",
    "output = orig.copy()\n",
    "cv2.addWeighted(overlay, alpha, output, 1 - alpha, 0, output)\n",
    "\n",
    "cv2.imshow(\"Input\", orig)\n",
    "cv2.imshow(\"Visualization\", vis)\n",
    "cv2.imshow(\"Output\", output)\n",
    "cv2.waitKey(0)"
   ]
  },
  {
   "cell_type": "code",
   "execution_count": null,
   "id": "33696950",
   "metadata": {},
   "outputs": [],
   "source": []
  },
  {
   "cell_type": "code",
   "execution_count": null,
   "id": "7e9662f4",
   "metadata": {},
   "outputs": [],
   "source": []
  }
 ],
 "metadata": {
  "kernelspec": {
   "display_name": "Python 3 (ipykernel)",
   "language": "python",
   "name": "python3"
  },
  "language_info": {
   "codemirror_mode": {
    "name": "ipython",
    "version": 3
   },
   "file_extension": ".py",
   "mimetype": "text/x-python",
   "name": "python",
   "nbconvert_exporter": "python",
   "pygments_lexer": "ipython3",
   "version": "3.9.0"
  }
 },
 "nbformat": 4,
 "nbformat_minor": 5
}
