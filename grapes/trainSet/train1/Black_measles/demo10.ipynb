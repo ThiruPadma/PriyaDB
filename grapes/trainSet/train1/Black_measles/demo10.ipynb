{
 "cells": [
  {
   "cell_type": "code",
   "execution_count": 1,
   "id": "2081967a",
   "metadata": {},
   "outputs": [],
   "source": [
    "import cv2\n",
    "import matplotlib.pyplot as plt\n",
    "import numpy as np"
   ]
  },
  {
   "cell_type": "code",
   "execution_count": 2,
   "id": "f80c4886",
   "metadata": {},
   "outputs": [],
   "source": [
    "path = 'blackmeasles (1).jpg'\n",
    "img = cv2.imread(path)\n",
    "#img = cv2.resize(img,(256,256))\n"
   ]
  },
  {
   "cell_type": "code",
   "execution_count": 3,
   "id": "2d451192",
   "metadata": {},
   "outputs": [],
   "source": [
    "def inverte(image):\n",
    "    imagem = (255-image)\n",
    "    return(imagem)"
   ]
  },
  {
   "cell_type": "code",
   "execution_count": 4,
   "id": "c719708d",
   "metadata": {},
   "outputs": [],
   "source": [
    "def ProcessImage(im):\n",
    "    resized = cv2.resize(im, (500,500))\n",
    "    blurred = cv2.medianBlur(resized, 3)\n",
    "    image = cv2.cvtColor(blurred, cv2.COLOR_BGR2RGB)\n",
    "    OriginalImage = image\n",
    "    cv2.imshow(\"Original Image\", image)\n",
    "    cv2.waitKey(0)\n",
    "    b = OriginalImage[:, :, 0]\n",
    "    g = OriginalImage[:, :, 1]\n",
    "    r = OriginalImage[:, :, 2]\n",
    "    #ng = invert(g)\n",
    "    #cv2.imshow(\"Red Channel\", r)\n",
    "    #cv2.imshow(\"Green Channel\", g)\n",
    "    #cv2.imshow(\"Blue Channel\", b)\n",
    "    \n",
    "    Disease = r - g\n",
    "    red, green, blue = cv2.split(image)\n",
    "    notgreen = cv2.merge((red, inverte(green), blue))\n",
    "\n",
    "    cv2.imshow(\"Not\", inverte(blurred))\n",
    "    cv2.waitKey(0)\n",
    "    #nd = invert(Disease)\n",
    "    cv2.imshow(\"disease\", Disease)\n",
    "    cv2.waitKey(0)\n",
    "    \n",
    "    #equ = cv2.equalizeHist(Disease)\n",
    "    \n",
    "    #cv2.imshow(\"EQ\", equ)\n",
    "    return(Disease)"
   ]
  },
  {
   "cell_type": "code",
   "execution_count": 5,
   "id": "02c38c3d",
   "metadata": {},
   "outputs": [
    {
     "data": {
      "text/plain": [
       "-1"
      ]
     },
     "execution_count": 5,
     "metadata": {},
     "output_type": "execute_result"
    }
   ],
   "source": [
    "#imgF = np.float32(img)\n",
    "gr = ProcessImage(img)\n",
    "\n",
    "cv2.imshow(\"gr\", gr)\n",
    "cv2.waitKey(0)\n",
    "dst = cv2.cornerHarris(gr,2,3,0.04)\n",
    "\n",
    "#dst = cv2.dilate(dst,None)\n",
    "#gr[dst>0.01*dst.max()] = [0,0,255]\n",
    "\n",
    "cv2.imshow('dst', dst)\n",
    "cv2.waitKey(0)\n",
    "#if cv2.waitKey(0) & 0xff == 27:\n",
    "#  cv2.destroyAllWindows()"
   ]
  },
  {
   "cell_type": "code",
   "execution_count": 6,
   "id": "656d2883",
   "metadata": {},
   "outputs": [
    {
     "data": {
      "text/plain": [
       "-1"
      ]
     },
     "execution_count": 6,
     "metadata": {},
     "output_type": "execute_result"
    }
   ],
   "source": [
    "#imgF = np.float32(img)\n",
    "gr = ProcessImage(img)\n",
    "sift = cv2.SIFT_create()\n",
    "#img_gr = ProcessImage()\n",
    "\n",
    "kp, des = sift.detectAndCompute(gr, None)\n",
    "\n",
    "img = cv2.drawKeypoints(gr,kp,img,flags=cv2.DRAW_MATCHES_FLAGS_DRAW_RICH_KEYPOINTS)\n",
    "\n",
    "cv2.imshow(\"sift\", img)\n",
    "cv2.waitKey(0)\n",
    "\n",
    "#cv.imwrite('sift_with_features_chessboard.jpg',img)"
   ]
  },
  {
   "cell_type": "code",
   "execution_count": 8,
   "id": "c011b25b",
   "metadata": {},
   "outputs": [
    {
     "ename": "AttributeError",
     "evalue": "module 'cv2' has no attribute 'xfeatures2d'",
     "output_type": "error",
     "traceback": [
      "\u001b[1;31m---------------------------------------------------------------------------\u001b[0m",
      "\u001b[1;31mAttributeError\u001b[0m                            Traceback (most recent call last)",
      "\u001b[1;32mC:\\Users\\ADMINI~1\\AppData\\Local\\Temp/ipykernel_13264/985632636.py\u001b[0m in \u001b[0;36m<module>\u001b[1;34m\u001b[0m\n\u001b[0;32m      1\u001b[0m \u001b[1;31m#img = np.float32(img)\u001b[0m\u001b[1;33m\u001b[0m\u001b[1;33m\u001b[0m\u001b[0m\n\u001b[0;32m      2\u001b[0m \u001b[0mgr\u001b[0m \u001b[1;33m=\u001b[0m \u001b[0mProcessImage\u001b[0m\u001b[1;33m(\u001b[0m\u001b[0mimg\u001b[0m\u001b[1;33m)\u001b[0m\u001b[1;33m\u001b[0m\u001b[1;33m\u001b[0m\u001b[0m\n\u001b[1;32m----> 3\u001b[1;33m \u001b[0msurf\u001b[0m \u001b[1;33m=\u001b[0m \u001b[0mcv2\u001b[0m\u001b[1;33m.\u001b[0m\u001b[0mxfeatures2d\u001b[0m\u001b[1;33m.\u001b[0m\u001b[0mSURF_create\u001b[0m\u001b[1;33m(\u001b[0m\u001b[1;36m400\u001b[0m\u001b[1;33m)\u001b[0m\u001b[1;33m\u001b[0m\u001b[1;33m\u001b[0m\u001b[0m\n\u001b[0m\u001b[0;32m      4\u001b[0m \u001b[0mkp\u001b[0m\u001b[1;33m,\u001b[0m \u001b[0mdes\u001b[0m \u001b[1;33m=\u001b[0m \u001b[0msift\u001b[0m\u001b[1;33m.\u001b[0m\u001b[0mdetectAndCompute\u001b[0m\u001b[1;33m(\u001b[0m\u001b[0mimg\u001b[0m\u001b[1;33m,\u001b[0m\u001b[1;32mNone\u001b[0m\u001b[1;33m)\u001b[0m\u001b[1;33m\u001b[0m\u001b[1;33m\u001b[0m\u001b[0m\n\u001b[0;32m      5\u001b[0m \u001b[1;33m\u001b[0m\u001b[0m\n",
      "\u001b[1;31mAttributeError\u001b[0m: module 'cv2' has no attribute 'xfeatures2d'"
     ]
    }
   ],
   "source": [
    "#img = np.float32(img)\n",
    "gr = ProcessImage(img)\n",
    "surf = cv2.xfeatures2d.SURF_create(400)\n",
    "kp, des = sift.detectAndCompute(img,None)\n",
    " \n",
    "# Draw circles to indicate the location of features and the feature's orientation\n",
    "img=cv2.drawKeypoints(gray,kp,img,flags=cv.DRAW_MATCHES_FLAGS_DRAW_RICH_KEYPOINTS)\n",
    " \n",
    "# Save the image\n",
    "cv2.imwrite('surf_with_features_chessboard.jpg',img)"
   ]
  },
  {
   "cell_type": "code",
   "execution_count": null,
   "id": "034f223c",
   "metadata": {},
   "outputs": [],
   "source": []
  },
  {
   "cell_type": "code",
   "execution_count": 9,
   "id": "9dd1f186",
   "metadata": {},
   "outputs": [
    {
     "ename": "SyntaxError",
     "evalue": "invalid syntax (Temp/ipykernel_13264/2187300533.py, line 2)",
     "output_type": "error",
     "traceback": [
      "\u001b[1;36m  File \u001b[1;32m\"C:\\Users\\ADMINI~1\\AppData\\Local\\Temp/ipykernel_13264/2187300533.py\"\u001b[1;36m, line \u001b[1;32m2\u001b[0m\n\u001b[1;33m    imbw = thresholdLocally(im,[2 2]); % thresold localy with a 2x2 window\u001b[0m\n\u001b[1;37m                                  ^\u001b[0m\n\u001b[1;31mSyntaxError\u001b[0m\u001b[1;31m:\u001b[0m invalid syntax\n"
     ]
    }
   ],
   "source": [
    " im=rgb2gray(imread('Ly7C8.png'));\n",
    " imbw = thresholdLocally(im,[2 2]); % thresold localy with a 2x2 window\n",
    " % preparing to find the circle\n",
    " props = regionprops(imbw,'Area','PixelIdxList','MajorAxisLength','MinorAxisLength');\n",
    " [~,indexOfMax] = max([props.Area]);\n",
    " approximateRadius =  props(indexOfMax).MajorAxisLength/2;\n",
    " radius=round(approximateRadius);%-1:approximateRadius+1);\n",
    " %find the circle using Hough trans.\n",
    " h = circle_hough(edge(imbw), radius,'same');\n",
    " [~,maxIndex] = max(h(:));\n",
    " [i,j,k] = ind2sub(size(h), maxIndex);\n",
    " center.x = j;     center.y = i;\n",
    "\n",
    " figure;imagesc(im);imellipse(gca,[center.x-radius  center.y-radius 2*radius 2*radius]);\n",
    " title('Finding the circle using Hough Trans.');"
   ]
  },
  {
   "cell_type": "code",
   "execution_count": null,
   "id": "1771429d",
   "metadata": {},
   "outputs": [],
   "source": [
    "gr = ProcessImage(img)\n",
    "imbw "
   ]
  },
  {
   "cell_type": "code",
   "execution_count": null,
   "id": "fd731b3d",
   "metadata": {},
   "outputs": [],
   "source": [
    "img_rgb=cv2.cvtColor(img,cv2.COLOR_BGR2RGB)\n",
    "img_gray=cv2.cvtColor(img_rgb,cv2.COLOR_RGB2GRAY)\n",
    "hsv_img = cv2.cvtColor(img_rgb, cv2.COLOR_RGB2HSV)"
   ]
  },
  {
   "cell_type": "code",
   "execution_count": null,
   "id": "fd429e17",
   "metadata": {},
   "outputs": [],
   "source": [
    "def pre_process(image):\n",
    "    resized = cv2.resize(image, (500,500))\n",
    "    blurred = cv2.medianBlur(resized, 3)\n",
    "    image = cv2.cvtColor(blurred, cv2.COLOR_BGR2RGB)\n",
    "    #gray = cv2.cvtColor(image, cv2.COLOR_RGB2GRAY)\n",
    "    img = ProcessImage(image)\n",
    "    equalized = cv2.equalizeHist(img)  \n",
    "    return(equalized)\n",
    "    "
   ]
  },
  {
   "cell_type": "code",
   "execution_count": null,
   "id": "504bd01c",
   "metadata": {},
   "outputs": [],
   "source": [
    "red, green, blue = img.split()\n",
    "notgreen = img.merge('RGB', (red, invert(green), blue))\n",
    "\n",
    "cv2.imshow(\"Not\", notgreen)\n",
    "cv2.waitKey(0)"
   ]
  }
 ],
 "metadata": {
  "kernelspec": {
   "display_name": "Python 3 (ipykernel)",
   "language": "python",
   "name": "python3"
  },
  "language_info": {
   "codemirror_mode": {
    "name": "ipython",
    "version": 3
   },
   "file_extension": ".py",
   "mimetype": "text/x-python",
   "name": "python",
   "nbconvert_exporter": "python",
   "pygments_lexer": "ipython3",
   "version": "3.9.7"
  }
 },
 "nbformat": 4,
 "nbformat_minor": 5
}
