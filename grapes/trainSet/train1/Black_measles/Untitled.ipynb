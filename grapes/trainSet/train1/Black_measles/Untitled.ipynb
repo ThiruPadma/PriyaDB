{
 "cells": [
  {
   "cell_type": "code",
   "execution_count": 1,
   "id": "af13babf",
   "metadata": {},
   "outputs": [],
   "source": [
    "import cv2\n",
    "import numpy as np\n",
    "from matplotlib import pyplot as plt\n",
    "import matplotlib\n",
    "#%matplotlib inline #uncomment if in notebook\n"
   ]
  },
  {
   "cell_type": "code",
   "execution_count": 2,
   "id": "632b42ff",
   "metadata": {},
   "outputs": [],
   "source": [
    "def mask_leaf(im_name, external_mask=None):\n",
    "\n",
    "    im = cv2.imread(im_name)\n",
    "    #im = cv2.blur(im, (5,5))\n",
    "    cv2.imshow(\"im\", im)\n",
    "    cv2.waitKey(0)\n",
    "    height, width = im.shape[:2]\n",
    "\n",
    "    mask = np.ones(im.shape[:2], dtype=np.uint8) * 2 #start all possible background\n",
    "    '''\n",
    "    #from docs:\n",
    "    0 GC_BGD defines an obvious background pixels.\n",
    "    1 GC_FGD defines an obvious foreground (object) pixel.\n",
    "    2 GC_PR_BGD defines a possible background pixel.\n",
    "    3 GC_PR_FGD defines a possible foreground pixel.\n",
    "    '''\n",
    "\n",
    "    #2 circles are \"drawn\" on mask. a smaller centered one I assume all pixels are definite foreground. a bigger circle, probably foreground.\n",
    "    r = 100\n",
    "    cv2.circle(mask, (int(width/2.), int(height/2.)), 2*r, 3, -3) #possible fg\n",
    "    #next 2 are greens...dark and bright to increase the number of fg pixels.\n",
    "    mask[(im[:,:,0] < 45) & (im[:,:,1] > 55) & (im[:,:,2] < 55)] = 1  #dark green\n",
    "    mask[(im[:,:,0] < 190) & (im[:,:,1] > 190) & (im[:,:,2] < 200)] = 1  #bright green\n",
    "    mask[(im[:,:,0] > 200) & (im[:,:,1] > 200) & (im[:,:,2] > 200) & (mask != 1)] = 0 #pretty white\n",
    "\n",
    "    cv2.circle(mask, (int(width/2.), int(height/2.)), r, 1, -3) #fg\n",
    "\n",
    "    #if you pass in an external mask derived from some other operation it is factored in here.\n",
    "    if external_mask is not None:\n",
    "        mask[external_mask == 1] = 1\n",
    "\n",
    "    bgdmodel = np.zeros((1,65), np.float64)\n",
    "    fgdmodel = np.zeros((1,65), np.float64)\n",
    "    cv2.grabCut(im, mask, None, bgdmodel, fgdmodel, 1, cv2.GC_INIT_WITH_MASK)\n",
    "\n",
    "    #show mask\n",
    "    plt.figure(figsize=(10,10))\n",
    "    plt.imshow(mask)\n",
    "    plt.show()\n",
    "\n",
    "    #mask image\n",
    "    mask2 = np.where((mask==1) + (mask==3), 255, 0).astype('uint8')\n",
    "    output = cv2.bitwise_and(im, im, mask=mask2)\n",
    "    plt.figure(figsize=(10,10))\n",
    "    plt.imshow(output)\n",
    "    plt.show()\n"
   ]
  },
  {
   "cell_type": "code",
   "execution_count": 3,
   "id": "ca203a2e",
   "metadata": {},
   "outputs": [
    {
     "ename": "error",
     "evalue": "OpenCV(4.5.4-dev) D:\\a\\opencv-python\\opencv-python\\opencv\\modules\\imgproc\\src\\color.cpp:182: error: (-215:Assertion failed) !_src.empty() in function 'cv::cvtColor'\n",
     "output_type": "error",
     "traceback": [
      "\u001b[1;31m---------------------------------------------------------------------------\u001b[0m",
      "\u001b[1;31merror\u001b[0m                                     Traceback (most recent call last)",
      "\u001b[1;32mC:\\Users\\ADMINI~1\\AppData\\Local\\Temp/ipykernel_11496/3091635760.py\u001b[0m in \u001b[0;36m<module>\u001b[1;34m\u001b[0m\n\u001b[1;32m----> 1\u001b[1;33m \u001b[0mmask_leaf\u001b[0m\u001b[1;33m(\u001b[0m\u001b[1;34m'setImages/bacteralblur/blur103.jpg'\u001b[0m\u001b[1;33m,\u001b[0m \u001b[0mexternal_mask\u001b[0m\u001b[1;33m=\u001b[0m\u001b[1;32mNone\u001b[0m\u001b[1;33m)\u001b[0m\u001b[1;33m\u001b[0m\u001b[1;33m\u001b[0m\u001b[0m\n\u001b[0m\u001b[0;32m      2\u001b[0m \u001b[0mmask_leaf\u001b[0m\u001b[1;33m(\u001b[0m\u001b[1;34m'setImages/bacteralblur/blur103.jpg'\u001b[0m\u001b[1;33m,\u001b[0m \u001b[0mexternal_mask\u001b[0m\u001b[1;33m=\u001b[0m\u001b[1;32mNone\u001b[0m\u001b[1;33m)\u001b[0m\u001b[1;33m\u001b[0m\u001b[1;33m\u001b[0m\u001b[0m\n",
      "\u001b[1;32mC:\\Users\\ADMINI~1\\AppData\\Local\\Temp/ipykernel_11496/3658738877.py\u001b[0m in \u001b[0;36mmask_leaf\u001b[1;34m(im_name, external_mask)\u001b[0m\n\u001b[0;32m      3\u001b[0m     \u001b[0mim\u001b[0m \u001b[1;33m=\u001b[0m \u001b[0mcv2\u001b[0m\u001b[1;33m.\u001b[0m\u001b[0mimread\u001b[0m\u001b[1;33m(\u001b[0m\u001b[0mim_name\u001b[0m\u001b[1;33m)\u001b[0m\u001b[1;33m\u001b[0m\u001b[1;33m\u001b[0m\u001b[0m\n\u001b[0;32m      4\u001b[0m     \u001b[1;31m#im = cv2.blur(im, (5,5))\u001b[0m\u001b[1;33m\u001b[0m\u001b[1;33m\u001b[0m\u001b[0m\n\u001b[1;32m----> 5\u001b[1;33m     \u001b[0mcv2\u001b[0m\u001b[1;33m.\u001b[0m\u001b[0mimshow\u001b[0m\u001b[1;33m(\u001b[0m\u001b[1;34m\"im\"\u001b[0m\u001b[1;33m,\u001b[0m \u001b[0mim\u001b[0m\u001b[1;33m)\u001b[0m\u001b[1;33m\u001b[0m\u001b[1;33m\u001b[0m\u001b[0m\n\u001b[0m\u001b[0;32m      6\u001b[0m     \u001b[0mcv2\u001b[0m\u001b[1;33m.\u001b[0m\u001b[0mwaitKey\u001b[0m\u001b[1;33m(\u001b[0m\u001b[1;36m0\u001b[0m\u001b[1;33m)\u001b[0m\u001b[1;33m\u001b[0m\u001b[1;33m\u001b[0m\u001b[0m\n\u001b[0;32m      7\u001b[0m     \u001b[0mheight\u001b[0m\u001b[1;33m,\u001b[0m \u001b[0mwidth\u001b[0m \u001b[1;33m=\u001b[0m \u001b[0mim\u001b[0m\u001b[1;33m.\u001b[0m\u001b[0mshape\u001b[0m\u001b[1;33m[\u001b[0m\u001b[1;33m:\u001b[0m\u001b[1;36m2\u001b[0m\u001b[1;33m]\u001b[0m\u001b[1;33m\u001b[0m\u001b[1;33m\u001b[0m\u001b[0m\n",
      "\u001b[1;31merror\u001b[0m: OpenCV(4.5.4-dev) D:\\a\\opencv-python\\opencv-python\\opencv\\modules\\imgproc\\src\\color.cpp:182: error: (-215:Assertion failed) !_src.empty() in function 'cv::cvtColor'\n"
     ]
    }
   ],
   "source": [
    "\n",
    "mask_leaf('setImages/bacteralblur/blur103.jpg', external_mask=None)\n",
    "mask_leaf('setImages/bacteralblur/blur103.jpg', external_mask=None)\n"
   ]
  },
  {
   "cell_type": "code",
   "execution_count": null,
   "id": "bdd33579",
   "metadata": {},
   "outputs": [],
   "source": []
  }
 ],
 "metadata": {
  "kernelspec": {
   "display_name": "Python 3 (ipykernel)",
   "language": "python",
   "name": "python3"
  },
  "language_info": {
   "codemirror_mode": {
    "name": "ipython",
    "version": 3
   },
   "file_extension": ".py",
   "mimetype": "text/x-python",
   "name": "python",
   "nbconvert_exporter": "python",
   "pygments_lexer": "ipython3",
   "version": "3.9.7"
  }
 },
 "nbformat": 4,
 "nbformat_minor": 5
}
