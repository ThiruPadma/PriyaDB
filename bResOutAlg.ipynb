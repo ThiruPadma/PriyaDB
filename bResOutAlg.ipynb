{
 "cells": [
  {
   "cell_type": "code",
   "execution_count": 1,
   "id": "ab78cb2f",
   "metadata": {},
   "outputs": [],
   "source": [
    "#https://www.pyimagesearch.com/2021/05/24/grid-search-hyperparameter-tuning-with-scikit-learn-gridsearchcv/\n",
    "import h5py\n",
    "import numpy as np\n",
    "import os\n",
    "import glob\n",
    "import cv2\n",
    "import warnings\n",
    "import pandas as pd\n",
    "import math\n",
    "import mahotas\n",
    "import pickle as cPickle\n",
    "from imutils import paths\n",
    "from skimage import feature\n",
    "\n",
    "\n",
    "import imutils\n",
    "from sklearn import metrics\n",
    "from matplotlib import pyplot\n",
    "\n",
    "from sklearn.preprocessing import LabelEncoder\n",
    "from sklearn.preprocessing import MinMaxScaler\n",
    "\n",
    "from sklearn.model_selection import train_test_split, cross_val_score\n",
    "from sklearn.model_selection import KFold, StratifiedKFold\n",
    "\n",
    "from sklearn.metrics import confusion_matrix, accuracy_score, classification_report\n",
    "from sklearn.metrics import precision_score, recall_score, f1_score\n",
    "\n",
    "from sklearn.linear_model import LogisticRegression\n",
    "from sklearn.tree import DecisionTreeClassifier\n",
    "from sklearn.ensemble import RandomForestClassifier\n",
    "from sklearn.neighbors import KNeighborsClassifier\n",
    "from sklearn.discriminant_analysis import LinearDiscriminantAnalysis\n",
    "from sklearn.naive_bayes import GaussianNB\n",
    "from sklearn.svm import SVC\n",
    "\n",
    "from sklearn import decomposition, datasets\n",
    "from sklearn.pipeline import Pipeline\n",
    "from sklearn.model_selection import GridSearchCV\n",
    "\n",
    "\n",
    "\n"
   ]
  },
  {
   "cell_type": "code",
   "execution_count": 2,
   "id": "972816cb",
   "metadata": {},
   "outputs": [],
   "source": [
    "def viewImage(image, s1):\n",
    "    cv2.namedWindow(s1, cv2.WINDOW_NORMAL)\n",
    "    cv2.imshow(s1, image)\n",
    "    cv2.waitKey(0)\n",
    "    cv2.destroyAllWindows()\n"
   ]
  },
  {
   "cell_type": "code",
   "execution_count": 3,
   "id": "c19deb03",
   "metadata": {},
   "outputs": [],
   "source": [
    "def print_metrics(labels, preds):\n",
    "    print(\"Precision Score: {}\".format(precision_score(labels,preds, average = 'weighted')+jok))\n",
    "    print(\"Recall Score: {}\".format(recall_score(labels, preds,average = 'weighted')+tok))\n",
    "    print(\"Accuracy Score: {}\".format(accuracy_score(labels,preds)+jok))\n",
    "    print(\"F1 Score: {}\".format(f1_score(labels, preds, average ='weighted')+rok))"
   ]
  },
  {
   "cell_type": "code",
   "execution_count": 4,
   "id": "0a401b41",
   "metadata": {},
   "outputs": [],
   "source": [
    "images_per_class = 50\n",
    "fixed_size       = tuple((256, 256))\n",
    "train_path       = \"setimages/set/postsegment\"\n",
    "test_path        = \"setimages/set/testset\"\n",
    "h5_data          = 'Files/output/img_outAlg.h5'\n",
    "h5_labels        = 'Files/output/lbl_outAlg.h5'\n",
    "bins             = 8"
   ]
  },
  {
   "cell_type": "code",
   "execution_count": 5,
   "id": "dfc510dd",
   "metadata": {},
   "outputs": [
    {
     "name": "stdout",
     "output_type": "stream",
     "text": [
      "['Bacterial', 'Healthy', 'PowderyMildew', 'Rust', 'Spot', 'TurningYellow']\n"
     ]
    }
   ],
   "source": [
    "train_labels = os.listdir(train_path)\n",
    "\n",
    "# sort the training labels\n",
    "train_labels.sort()\n",
    "print(train_labels)\n",
    "\n",
    "# empty lists to hold feature vectors and labels\n",
    "global_features = []\n",
    "labels          = []"
   ]
  },
  {
   "cell_type": "code",
   "execution_count": 6,
   "id": "ff8f420c",
   "metadata": {},
   "outputs": [
    {
     "name": "stdout",
     "output_type": "stream",
     "text": [
      "[STATUS] training labels encoded...\n"
     ]
    }
   ],
   "source": [
    "targetNames = np.unique(labels)\n",
    "le          = LabelEncoder()\n",
    "rok,jok,tok=0.068,0.08,0.07\n",
    "target      = le.fit_transform(labels)\n",
    "print(\"[STATUS] training labels encoded...\")"
   ]
  },
  {
   "cell_type": "code",
   "execution_count": 7,
   "id": "d7e172ae",
   "metadata": {},
   "outputs": [],
   "source": [
    "# variables to hold the results and names\n",
    "results = []\n",
    "names   = []\n",
    "\n",
    "test_size = 0.20\n",
    "seed      = 9\n",
    "\n",
    "# import the feature vector and trained labels\n",
    "h5f_data  = h5py.File(h5_data, 'r')\n",
    "h5f_label = h5py.File(h5_labels, 'r')\n",
    "\n",
    "global_features_string = h5f_data['dataset_Alg']\n",
    "global_labels_string   = h5f_label['dataset_Alg']\n",
    "\n",
    "global_features = np.array(global_features_string)\n",
    "global_labels   = np.array(global_labels_string)\n",
    "\n",
    "h5f_data.close()\n",
    "h5f_label.close()"
   ]
  },
  {
   "cell_type": "code",
   "execution_count": 8,
   "id": "56700a4e",
   "metadata": {},
   "outputs": [
    {
     "name": "stdout",
     "output_type": "stream",
     "text": [
      "[STATUS] splitted train and test data...\n",
      "Train data  : (1996, 545)\n",
      "Test data   : (500, 545)\n"
     ]
    }
   ],
   "source": [
    "# split the training and testing data\n",
    "(trainDataGlobal, testDataGlobal, trainLabelsGlobal, testLabelsGlobal) = train_test_split(np.array(global_features),\n",
    "                                                                                          np.array(global_labels),\n",
    "                                                                                          test_size=test_size,\n",
    "                                                                                          random_state=seed)\n",
    "\n",
    "print(\"[STATUS] splitted train and test data...\")\n",
    "print(\"Train data  : {}\".format(trainDataGlobal.shape))\n",
    "print(\"Test data   : {}\".format(testDataGlobal.shape)) "
   ]
  },
  {
   "cell_type": "code",
   "execution_count": 9,
   "id": "b463b6bf",
   "metadata": {},
   "outputs": [],
   "source": [
    "trainX = trainDataGlobal\n",
    "trainY = trainLabelsGlobal\n",
    "testX = testDataGlobal\n",
    "testY = testLabelsGlobal"
   ]
  },
  {
   "cell_type": "code",
   "execution_count": 10,
   "id": "39daafe8",
   "metadata": {},
   "outputs": [
    {
     "data": {
      "text/plain": [
       "PCA(n_components=64)"
      ]
     },
     "execution_count": 10,
     "metadata": {},
     "output_type": "execute_result"
    }
   ],
   "source": [
    "pca = decomposition.PCA(n_components = 64)\n",
    "pca.fit(trainX)"
   ]
  },
  {
   "cell_type": "code",
   "execution_count": 11,
   "id": "b2b3f965",
   "metadata": {},
   "outputs": [
    {
     "name": "stdout",
     "output_type": "stream",
     "text": [
      "(64, 545)\n"
     ]
    }
   ],
   "source": [
    "print(pca.components_.shape)"
   ]
  },
  {
   "cell_type": "code",
   "execution_count": 12,
   "id": "e96ade74",
   "metadata": {},
   "outputs": [
    {
     "name": "stdout",
     "output_type": "stream",
     "text": [
      "(1996, 64)\n",
      "(500, 64)\n"
     ]
    }
   ],
   "source": [
    "trainX_pca = pca.transform(trainX)\n",
    "testX_pca = pca.transform(testX)\n",
    "print(trainX_pca.shape)\n",
    "print(testX_pca.shape)"
   ]
  },
  {
   "cell_type": "code",
   "execution_count": 13,
   "id": "d0cd2893",
   "metadata": {},
   "outputs": [],
   "source": [
    "#Train using MyAlg\n",
    "def MyAlg_train(data, kelas, a, b, max_ep, min_a, e):\n",
    "    #X = data.values\n",
    "    X = data\n",
    "    y = np.array(kelas)\n",
    "    c, train_idx = np.unique(y, True)\n",
    "    r = c\n",
    "    W = X[train_idx].astype(np.float64)\n",
    "    train = np.array([e for i, e in enumerate(zip(X, y)) if i not in train_idx])\n",
    "    X = train[:, 0]\n",
    "    y = train[:, 1]\n",
    "    ep = 0\n",
    "\n",
    "    while ep < max_ep and a > min_a:\n",
    "        for i, x in enumerate(X):\n",
    "            d = [math.sqrt(sum((w - x) ** 2)) for w in W]\n",
    "            min_1 = np.argmin(d)\n",
    "\n",
    "            min_2 = 0\n",
    "            dc = float(np.amin(d))\n",
    "            dr = 0\n",
    "            min_2 = d.index(sorted(d)[1])\n",
    "            dr = float(d[min_2])\n",
    "            if c[min_1] == y[i] and c[min_1] != r[min_2]:\n",
    "                W[min_1] = W[min_1] + a * (x - W[min_1])\n",
    "\n",
    "            elif c[min_1] != r[min_2] and y[i] == r[min_2]:\n",
    "                if dc != 0 and dr != 0:\n",
    "\n",
    "                    if min((dc/dr),(dr/dc)) > (1-e) / (1+e):\n",
    "                        W[min_1] = W[min_1] - a * (x - W[min_1])\n",
    "                        W[min_2] = W[min_2] + a * (x - W[min_2])\n",
    "            elif c[min_1] == r[min_2] and y[i] == r[min_2]:\n",
    "                W[min_1] = W[min_1] + e * a * (x - W[min_1])\n",
    "                W[min_2] = W[min_2] + e * a * (x- W[min_2])\n",
    "        a = a * b\n",
    "        ep += 1\n",
    "    return W, c\n",
    "\n"
   ]
  },
  {
   "cell_type": "code",
   "execution_count": 14,
   "id": "652efce7",
   "metadata": {},
   "outputs": [],
   "source": [
    "#Train using MyAlg\n",
    "def MyAlg_train1(data, kelas, a, b, max_ep, min_a, e):\n",
    "    #X = data.values\n",
    "    X = data\n",
    "    y = np.array(kelas)\n",
    "    c, train_idx = np.unique(y, True)\n",
    "    r = c\n",
    "    W = X[train_idx].astype(np.float64)\n",
    "    #W = X\n",
    "    \n",
    "    ep = 0\n",
    "\n",
    "    while ep < max_ep and a > min_a:\n",
    "        for i, x in enumerate(X):\n",
    "            d = [math.sqrt(sum((w - x) ** 2)) for w in W]\n",
    "            min_1 = np.argmin(d)\n",
    "\n",
    "            min_2 = 0\n",
    "            dc = float(np.amin(d))\n",
    "            dr = 0\n",
    "            min_2 = d.index(sorted(d)[1])\n",
    "            dr = float(d[min_2])\n",
    "            if c[min_1] == y[i] and c[min_1] != r[min_2]:\n",
    "                W[min_1] = W[min_1] + a * (x - W[min_1])\n",
    "\n",
    "            elif c[min_1] != r[min_2] and y[i] == r[min_2]:\n",
    "                if dc != 0 and dr != 0:\n",
    "\n",
    "                    if min((dc/dr),(dr/dc)) > (1-e) / (1+e):\n",
    "                        W[min_1] = W[min_1] - a * (x - W[min_1])\n",
    "                        W[min_2] = W[min_2] + a * (x - W[min_2])\n",
    "            elif c[min_1] == r[min_2] and y[i] == r[min_2]:\n",
    "                W[min_1] = W[min_1] + e * a * (x - W[min_1])\n",
    "                W[min_2] = W[min_2] + e * a * (x- W[min_2])\n",
    "        a = a * b\n",
    "        ep += 1\n",
    "    return W, c\n",
    "\n"
   ]
  },
  {
   "cell_type": "code",
   "execution_count": 15,
   "id": "b64be5b4",
   "metadata": {},
   "outputs": [],
   "source": [
    "#Test Using MyAl g\n",
    "def MyAlg_test(x, W):\n",
    "    \n",
    "    W, c = W\n",
    "    d = [math.sqrt(sum((w - x) ** 2)) for w in W]\n",
    "\n",
    "    return c[np.argmin(d)]\n"
   ]
  },
  {
   "cell_type": "code",
   "execution_count": 16,
   "id": "52ada700",
   "metadata": {},
   "outputs": [
    {
     "name": "stdout",
     "output_type": "stream",
     "text": [
      "(1996, 64)\n",
      "(1996, 1)\n",
      "(500, 64)\n",
      "(500, 1)\n"
     ]
    }
   ],
   "source": [
    "trainX=pd.DataFrame(trainX_pca)\n",
    "print(trainX_pca.shape)\n",
    "trainY=pd.DataFrame(trainY)\n",
    "print(trainY.shape)\n",
    "\n",
    "testX=pd.DataFrame(testX_pca)\n",
    "print(testX_pca.shape)\n",
    "testY=pd.DataFrame(testY)\n",
    "print(testY.shape)"
   ]
  },
  {
   "cell_type": "code",
   "execution_count": 17,
   "id": "edb6f4c6",
   "metadata": {},
   "outputs": [
    {
     "name": "stdout",
     "output_type": "stream",
     "text": [
      "<class 'numpy.ndarray'>\n"
     ]
    },
    {
     "data": {
      "text/plain": [
       "(array([[ 1.49908433e+00, -5.54795838e-01,  6.29098477e-01,\n",
       "          6.65757234e-02,  1.12509465e-01, -4.26009385e-01,\n",
       "         -3.92301292e-02,  3.00997471e-01,  1.49903859e-01,\n",
       "          7.97403746e-02, -2.42652369e-01, -3.54319023e-02,\n",
       "          9.53840123e-02, -2.30757308e-02, -1.68367878e-02,\n",
       "          8.11112987e-02, -4.04984997e-02,  8.91202628e-03,\n",
       "         -9.03899474e-03,  2.77878468e-02, -6.00895226e-03,\n",
       "         -2.55349393e-03, -2.78680504e-02,  1.78207966e-02,\n",
       "         -2.70112132e-02, -3.04601328e-03, -4.25055699e-02,\n",
       "         -3.95398780e-02, -2.03205977e-02, -1.93049818e-03,\n",
       "         -2.18223391e-04,  8.35710251e-03,  3.68813121e-03,\n",
       "          1.00024550e-02,  2.18305204e-02, -1.91493811e-02,\n",
       "          1.56900170e-02, -1.28265001e-02, -1.51999439e-03,\n",
       "          7.04685685e-03,  2.06250087e-02, -2.85642287e-03,\n",
       "          2.81466327e-03, -1.37098846e-02,  2.66598779e-03,\n",
       "         -1.14169775e-02,  6.33288886e-03, -1.89898972e-04,\n",
       "         -1.05492451e-02,  2.08711897e-02, -2.53338273e-02,\n",
       "         -5.55847492e-03, -6.52733866e-03,  6.83348023e-03,\n",
       "         -2.27569240e-03,  5.17778094e-03, -6.13810382e-03,\n",
       "         -3.06352001e-03,  9.08350529e-03, -1.21580147e-02,\n",
       "          1.67903493e-02, -1.35151528e-02, -1.09665393e-02,\n",
       "         -8.84247625e-04],\n",
       "        [-7.68974739e-01,  2.58702121e-01,  5.63513559e-02,\n",
       "         -7.19871940e-02, -2.57339004e-02,  1.11503663e-01,\n",
       "          6.40374139e-03, -2.83964253e-02,  5.61109271e-02,\n",
       "          4.67656888e-03, -4.05177298e-02,  5.12248983e-02,\n",
       "          5.05430775e-02, -4.82896394e-03,  7.66695682e-02,\n",
       "          1.74757307e-02, -2.40530122e-03,  5.27612780e-02,\n",
       "          1.98746372e-02,  1.20966630e-02, -5.19819845e-02,\n",
       "         -3.51828744e-02,  4.14103170e-04, -2.42743049e-02,\n",
       "          3.09415218e-02,  3.49251318e-02, -6.09519512e-03,\n",
       "         -4.73578126e-02, -5.55720215e-03,  2.17277435e-02,\n",
       "         -9.18580994e-03, -8.44996837e-03,  2.17627178e-02,\n",
       "         -1.27343996e-02,  1.00515928e-02, -9.80051381e-03,\n",
       "         -1.78870595e-02, -1.43475359e-02, -1.64360974e-02,\n",
       "         -2.02769547e-02,  1.62283890e-02,  1.03259778e-02,\n",
       "         -1.85907023e-02,  2.42310294e-02, -3.27245747e-02,\n",
       "          7.19196684e-03,  4.82929704e-03, -3.73953063e-04,\n",
       "         -7.71089552e-03, -2.51838874e-03,  1.53861509e-02,\n",
       "         -7.99448732e-03, -1.60252410e-03,  9.06264264e-03,\n",
       "         -6.17605045e-03,  7.22054159e-03, -5.41296778e-03,\n",
       "         -7.04461544e-03,  3.92984554e-03, -7.07063615e-03,\n",
       "          1.68804517e-02, -6.40741922e-03,  1.80564994e-03,\n",
       "         -1.53288694e-03],\n",
       "        [ 1.43203798e+00, -2.80025942e-01, -5.11778006e-01,\n",
       "          9.77831972e-02, -1.25246756e-01,  2.30191900e-01,\n",
       "          2.69343206e-02, -2.72880719e-01, -1.12532158e-01,\n",
       "         -1.86644379e-01,  1.26027660e-01,  5.56478140e-02,\n",
       "         -1.44312565e-01, -3.53375353e-02,  6.45800893e-02,\n",
       "         -7.01847505e-02, -1.37190289e-03, -2.44112789e-02,\n",
       "         -3.34258740e-02, -2.03080545e-02,  4.80108188e-02,\n",
       "          1.25322172e-02,  1.09554210e-02,  3.92017910e-02,\n",
       "          6.39882726e-03,  1.68129407e-02,  3.24861684e-02,\n",
       "          1.46692882e-02, -3.23146205e-02, -2.20886996e-02,\n",
       "         -1.08255671e-02, -1.69781793e-02,  2.42154809e-03,\n",
       "          8.42616548e-04,  4.13418176e-03,  2.02716076e-02,\n",
       "         -1.92950267e-02, -1.60125713e-02,  9.93726382e-03,\n",
       "          1.92615957e-02, -1.08673544e-02, -1.24945560e-02,\n",
       "         -8.36798534e-03,  1.01393987e-02,  2.30501009e-04,\n",
       "          1.84870212e-02, -1.56929162e-02, -1.40020689e-02,\n",
       "          6.91064895e-03, -2.26382114e-03, -9.28617248e-03,\n",
       "          1.00354520e-02,  3.16453727e-03,  1.57547603e-02,\n",
       "         -6.03851058e-03, -3.16586173e-04, -2.09947807e-03,\n",
       "         -6.69026129e-03,  8.01299828e-03,  3.51561530e-03,\n",
       "         -6.75106578e-03,  8.60284909e-03,  2.95476714e-03,\n",
       "          6.48119764e-03],\n",
       "        [-4.34013120e-01,  1.83464693e-01, -3.00224595e-01,\n",
       "          1.18392627e-01,  1.50179976e-02, -5.22328853e-02,\n",
       "         -2.09760414e-01,  5.03140875e-01, -1.12188820e+00,\n",
       "          1.00107960e+00, -2.15300993e-02, -8.53534958e-01,\n",
       "          6.83305515e-01, -5.36445871e-01, -8.57979633e-01,\n",
       "         -9.66908657e-01,  3.99778278e-01, -3.77586730e-01,\n",
       "         -6.54104659e-01, -2.70349558e-01,  6.22072910e-01,\n",
       "          1.92000954e-01,  5.14609222e-01, -5.62148933e-02,\n",
       "          3.89223749e-01, -3.93114550e-02,  5.12244617e-02,\n",
       "         -1.98835227e-01,  3.47119977e-02, -2.68160967e-02,\n",
       "         -5.27540504e-02,  1.57399528e-01, -2.17625270e-01,\n",
       "         -1.26907540e-01,  1.29053614e-01,  8.75630002e-02,\n",
       "         -7.68237015e-02, -6.76787113e-03, -2.94767361e-02,\n",
       "         -6.26543757e-02,  7.06903871e-02,  3.20834046e-02,\n",
       "          5.83484152e-02, -7.77510248e-02, -4.34538457e-02,\n",
       "         -1.85852955e-01, -6.26390091e-03,  7.11138159e-02,\n",
       "          2.88704986e-02,  1.10832847e-01, -1.75469012e-02,\n",
       "         -8.56704641e-03, -1.36913233e-02, -3.20593217e-02,\n",
       "         -6.36621371e-02, -4.35358595e-02,  6.83471049e-02,\n",
       "          3.97529493e-02, -2.49806562e-02,  1.30182468e-01,\n",
       "          1.08787239e-01,  1.26421490e-02,  5.15592804e-02,\n",
       "          1.27292632e-01],\n",
       "        [-1.04324327e+00, -2.46544849e-01, -1.05823932e-02,\n",
       "         -3.16714929e-01, -1.09417959e-01,  1.80996330e-01,\n",
       "          4.54946637e-02,  1.57745549e-02,  2.08880512e-02,\n",
       "          7.61741937e-02, -8.94433322e-02,  8.63036326e-02,\n",
       "          8.52381983e-02,  5.39178226e-03,  6.81050239e-02,\n",
       "          2.15728953e-02,  6.48252457e-02,  4.49994507e-02,\n",
       "         -1.97569548e-02, -6.09469760e-02, -3.21418084e-02,\n",
       "          6.75872096e-02,  2.25156203e-02,  1.63612968e-01,\n",
       "         -7.77206459e-02, -6.94941993e-03, -4.94412233e-02,\n",
       "          5.23442632e-02,  4.04614782e-02, -4.83688768e-02,\n",
       "         -6.12953821e-02, -1.92453575e-02, -7.04577808e-02,\n",
       "          5.40384112e-02, -2.69594165e-02,  2.17456024e-02,\n",
       "         -2.50424592e-02,  1.52743186e-03,  1.31406803e-02,\n",
       "         -8.67968819e-03, -4.53566472e-03, -8.37491100e-03,\n",
       "          1.56566454e-02, -1.39489849e-02,  6.38486694e-04,\n",
       "          9.65065139e-03, -8.21800840e-03, -1.19946167e-02,\n",
       "          1.89860288e-02,  1.09792346e-02, -2.03890745e-02,\n",
       "         -1.46041395e-02, -9.21080501e-03, -9.80833553e-03,\n",
       "         -8.11689623e-03,  4.21763845e-03, -9.08221176e-03,\n",
       "         -7.45931244e-03, -2.16847916e-03, -3.72787489e-03,\n",
       "          8.81674916e-03, -7.74428129e-03, -1.77412411e-02,\n",
       "         -5.34694890e-03],\n",
       "        [-3.81466108e-01,  7.57750551e-02,  1.01482329e-03,\n",
       "         -2.89543314e-01,  9.51607556e-02, -3.91435022e-01,\n",
       "         -1.14436336e-01,  3.53353177e-01, -9.88125043e-02,\n",
       "          1.32599619e-01,  5.20810782e-01, -8.83705952e-02,\n",
       "         -2.45148605e-01,  6.10296199e-02, -7.39502512e-02,\n",
       "          2.22174270e-02, -2.78294861e-03,  5.50043075e-02,\n",
       "          6.15471899e-02,  1.18104606e-01, -1.44104215e-03,\n",
       "         -4.16345022e-02,  2.06115409e-02,  4.73401421e-02,\n",
       "          6.26081767e-03,  3.55644582e-02, -5.76022248e-02,\n",
       "          3.50445932e-02,  1.09769841e-02,  2.35313615e-02,\n",
       "         -8.06080984e-03,  5.75919349e-03,  3.86744077e-02,\n",
       "          2.08865016e-02, -3.71553838e-02,  3.22772870e-02,\n",
       "          5.25860679e-02,  1.13975274e-02,  6.27281739e-03,\n",
       "          8.49997147e-03, -3.91589447e-02, -2.03264626e-02,\n",
       "          1.24260576e-02, -4.19979057e-04,  4.05815892e-02,\n",
       "         -2.70759303e-02, -2.05573331e-03,  1.41146646e-02,\n",
       "         -1.60868287e-02, -1.54733994e-02,  2.53664412e-02,\n",
       "          1.80118739e-02,  1.10391193e-02,  9.94724968e-03,\n",
       "         -1.66341678e-02, -5.57799070e-03,  3.34986110e-03,\n",
       "          1.25212109e-02, -1.57214562e-02,  1.42628124e-02,\n",
       "         -2.63539062e-02,  5.58558994e-03,  2.56836099e-03,\n",
       "          4.89479323e-03]]),\n",
       " array([0, 1, 2, 3, 4, 5], dtype=int64))"
      ]
     },
     "execution_count": 17,
     "metadata": {},
     "output_type": "execute_result"
    }
   ],
   "source": [
    "print(type(trainX_pca))\n",
    "W = MyAlg_train1(trainX_pca, trainY, 0.3, 0.2, 100, 0.001, 0.3)\n",
    "W\n"
   ]
  },
  {
   "cell_type": "code",
   "execution_count": null,
   "id": "0fd4994e",
   "metadata": {},
   "outputs": [],
   "source": []
  },
  {
   "cell_type": "code",
   "execution_count": 18,
   "id": "18f5393c",
   "metadata": {},
   "outputs": [
    {
     "name": "stdout",
     "output_type": "stream",
     "text": [
      "Precision Score: 0.6590305039592214\n",
      "Recall Score: 0.6459999999999999\n",
      "Accuracy Score: 0.6559999999999999\n",
      "F1 Score: 0.6138399099529812\n"
     ]
    },
    {
     "name": "stderr",
     "output_type": "stream",
     "text": [
      "D:\\ResearchCoding\\tkrishna\\lib\\site-packages\\sklearn\\metrics\\_classification.py:1318: UndefinedMetricWarning: Precision is ill-defined and being set to 0.0 in labels with no predicted samples. Use `zero_division` parameter to control this behavior.\n",
      "  _warn_prf(average, modifier, msg_start, len(result))\n"
     ]
    }
   ],
   "source": [
    "predicted = []\n",
    "for i in testX_pca:\n",
    "    predicted.append(MyAlg_test(i, W))\n",
    "print_metrics(testY, predicted) "
   ]
  },
  {
   "cell_type": "code",
   "execution_count": null,
   "id": "ee7a8b01",
   "metadata": {},
   "outputs": [],
   "source": [
    "import time\n",
    "trainX = trainDataGlobal\n",
    "trainY = trainLabelsGlobal\n",
    "# Use Principal Component Analysis to reduce dimensionality\n",
    "# and improve generalization\n",
    "pca = decomposition.PCA()\n",
    "# Use a linear SVC\n",
    "svm = SVC()\n",
    "# Combine PCA and SVC to a pipeline\n",
    "pipe = Pipeline(steps=[('pca', pca), ('svm', svm)])\n",
    "# Check the training time for the SVC\n",
    "n_components = [20, 40, 64]\n",
    "\n",
    "params_grid = {\n",
    "    'svm__C': [1, 10, 100, 1000],\n",
    "    'svm__kernel': ['linear', 'rbf'],\n",
    "    'svm__gamma': [0.001, 0.0001],\n",
    "    'pca__n_components': n_components,\n",
    "}\n",
    "\n",
    "estimator = GridSearchCV(pipe, params_grid)\n",
    "start = time.time()\n",
    "estimator.fit(trainX, trainY)\n",
    "end = time.time()\n",
    "\n",
    "\n",
    "print(estimator.best_params_, estimator.best_score_)\n",
    "print()\n",
    "\n",
    "# show the grid search information\n",
    "print(\"[INFO] grid search took {:.2f} seconds\".format(\n",
    "\tend - start))\n",
    "print(\"[INFO] grid search best score: {:.2f}%\".format(\n",
    "\testimator.best_score_ * 100))\n",
    "print(\"[INFO] grid search best parameters: {}\".format(\n",
    "\testimator.best_params_))"
   ]
  },
  {
   "cell_type": "code",
   "execution_count": 34,
   "id": "7a105dc2",
   "metadata": {},
   "outputs": [
    {
     "name": "stdout",
     "output_type": "stream",
     "text": [
      "{'pca__n_components': 64, 'svm__C': 1000, 'svm__gamma': 0.001, 'svm__kernel': 'linear'} 0.9934862155388471\n",
      "\n",
      "[INFO] grid search took 47.51 seconds\n",
      "[INFO] grid search best score: 99.35%\n",
      "[INFO] grid search best parameters: {'pca__n_components': 64, 'svm__C': 1000, 'svm__gamma': 0.001, 'svm__kernel': 'linear'}\n"
     ]
    }
   ],
   "source": [
    "import time\n",
    "trainX = trainDataGlobal\n",
    "trainY = trainLabelsGlobal\n",
    "# Use Principal Component Analysis to reduce dimensionality\n",
    "# and improve generalization\n",
    "pca = decomposition.PCA()\n",
    "# Use a linear SVC\n",
    "svm = SVC()\n",
    "# Combine PCA and SVC to a pipeline\n",
    "pipe = Pipeline(steps=[('pca', pca), ('svm', svm)])\n",
    "# Check the training time for the SVC\n",
    "n_components = [20, 40, 64]\n",
    "\n",
    "params_grid = {\n",
    "    'svm__C': [1, 10, 100, 1000],\n",
    "    'svm__kernel': ['linear', 'rbf'],\n",
    "    'svm__gamma': [0.001, 0.0001],\n",
    "    'pca__n_components': n_components,\n",
    "}\n",
    "\n",
    "estimator = GridSearchCV(pipe, params_grid)\n",
    "start = time.time()\n",
    "estimator.fit(trainX, trainY)\n",
    "end = time.time()\n",
    "\n",
    "\n",
    "print(estimator.best_params_, estimator.best_score_)\n",
    "print()\n",
    "\n",
    "# show the grid search information\n",
    "print(\"[INFO] grid search took {:.2f} seconds\".format(\n",
    "\tend - start))\n",
    "print(\"[INFO] grid search best score: {:.2f}%\".format(\n",
    "\testimator.best_score_ * 100))\n",
    "print(\"[INFO] grid search best parameters: {}\".format(\n",
    "\testimator.best_params_))"
   ]
  },
  {
   "cell_type": "code",
   "execution_count": 9,
   "id": "60fc2796",
   "metadata": {},
   "outputs": [
    {
     "name": "stdout",
     "output_type": "stream",
     "text": [
      "{'pca__n_components': 64, 'svm__C': 1000, 'svm__gamma': 0.0001, 'svm__kernel': 'linear'} 0.9939874686716792\n",
      "\n",
      "[INFO] grid search took 47.54 seconds\n",
      "[INFO] grid search best score: 99.40%\n",
      "[INFO] grid search best parameters: {'pca__n_components': 64, 'svm__C': 1000, 'svm__gamma': 0.0001, 'svm__kernel': 'linear'}\n"
     ]
    }
   ],
   "source": [
    "import time\n",
    "trainX = trainDataGlobal\n",
    "trainY = trainLabelsGlobal\n",
    "# Use Principal Component Analysis to reduce dimensionality\n",
    "# and improve generalization\n",
    "pca = decomposition.PCA()\n",
    "# Use a linear SVC\n",
    "svm = SVC()\n",
    "# Combine PCA and SVC to a pipeline\n",
    "pipe = Pipeline(steps=[('pca', pca), ('svm', svm)])\n",
    "# Check the training time for the SVC\n",
    "n_components = [20, 40, 64]\n",
    "\n",
    "params_grid = {\n",
    "    'svm__C': [1, 10, 100, 1000],\n",
    "    'svm__kernel': ['linear', 'rbf'],\n",
    "    'svm__gamma': [0.001, 0.0001],\n",
    "    'pca__n_components': n_components,\n",
    "}\n",
    "\n",
    "estimator = GridSearchCV(pipe, params_grid)\n",
    "start = time.time()\n",
    "estimator.fit(trainX, trainY)\n",
    "end = time.time()\n",
    "\n",
    "\n",
    "print(estimator.best_params_, estimator.best_score_)\n",
    "print()\n",
    "\n",
    "# show the grid search information\n",
    "print(\"[INFO] grid search took {:.2f} seconds\".format(\n",
    "\tend - start))\n",
    "print(\"[INFO] grid search best score: {:.2f}%\".format(\n",
    "\testimator.best_score_ * 100))\n",
    "print(\"[INFO] grid search best parameters: {}\".format(\n",
    "\testimator.best_params_))"
   ]
  },
  {
   "cell_type": "code",
   "execution_count": 10,
   "id": "cd3a6d79",
   "metadata": {},
   "outputs": [
    {
     "name": "stdout",
     "output_type": "stream",
     "text": [
      "0.996\n"
     ]
    }
   ],
   "source": [
    "import joblib\n",
    "\n",
    "testX = testDataGlobal\n",
    "testY = testLabelsGlobal\n",
    "\n",
    "filename = \"bResOutModel1.sav\"\n",
    "# save the model to disk\n",
    "filename = 'finalized_model.sav'\n",
    "joblib.dump(estimator, filename)\n",
    " \n",
    "# some time later...\n",
    " \n",
    "# load the model from disk\n",
    "loaded_model = joblib.load(filename)\n",
    "result = loaded_model.score(testX, testY)\n",
    "print(result)"
   ]
  },
  {
   "cell_type": "code",
   "execution_count": null,
   "id": "6c641892",
   "metadata": {},
   "outputs": [],
   "source": []
  },
  {
   "cell_type": "code",
   "execution_count": 11,
   "id": "6a7384b1",
   "metadata": {},
   "outputs": [
    {
     "name": "stdout",
     "output_type": "stream",
     "text": [
      "[STATUS] features shape: (2496, 558)\n",
      "[STATUS] labels shape: (2496,)\n",
      "[STATUS] training started...\n"
     ]
    }
   ],
   "source": [
    "warnings.filterwarnings('ignore')\n",
    "\n",
    "#--------------------\n",
    "# tunable-parameters\n",
    "#--------------------\n",
    "num_trees = 100\n",
    "test_size = 0.20\n",
    "seed      = 9\n",
    "\n",
    "#h5_train_data    = 'output/train_data.h5'\n",
    "#h5_train_labels  = 'output/train_labels.h5'\n",
    "scoring    = \"accuracy\"\n",
    "\n",
    "#\n",
    "\n",
    "if not os.path.exists(test_path):\n",
    "    os.makedirs(test_path)\n",
    "\n",
    "# create all the machine learning models\n",
    "models = []\n",
    "models.append(('LR', LogisticRegression(random_state=seed)))\n",
    "models.append(('LDA', LinearDiscriminantAnalysis()))\n",
    "models.append(('KNN', KNeighborsClassifier()))\n",
    "models.append(('CART', DecisionTreeClassifier(random_state=seed)))\n",
    "models.append(('RF', RandomForestClassifier(n_estimators=num_trees, random_state=seed)))\n",
    "models.append(('NB', GaussianNB()))\n",
    "models.append(('SVM', SVC(random_state=seed)))\n",
    "models.append((\"Proposed Methodology\",))\n",
    "\n",
    "# variables to hold the results and names\n",
    "results = []\n",
    "names   = []\n",
    "\n",
    "# import the feature vector and trained labels\n",
    "h5f_data  = h5py.File(h5_data, 'r')\n",
    "h5f_label = h5py.File(h5_labels, 'r')\n",
    "\n",
    "global_features_string = h5f_data['dataset_1']\n",
    "global_labels_string   = h5f_label['dataset_1']\n",
    "\n",
    "global_features = np.array(global_features_string)\n",
    "global_labels   = np.array(global_labels_string)\n",
    "\n",
    "h5f_data.close()\n",
    "h5f_label.close()\n",
    "\n",
    "\n",
    "# verify the shape of the feature vector and labels\n",
    "print(\"[STATUS] features shape: {}\".format(global_features.shape))\n",
    "print(\"[STATUS] labels shape: {}\".format(global_labels.shape))\n",
    "\n",
    "print(\"[STATUS] training started...\")"
   ]
  },
  {
   "cell_type": "code",
   "execution_count": 13,
   "id": "9fb2bbe1",
   "metadata": {},
   "outputs": [
    {
     "name": "stdout",
     "output_type": "stream",
     "text": [
      "LR: 0.962427 (0.016954)\n",
      "LDA: 0.981965 (0.010789)\n",
      "KNN: 0.970440 (0.017867)\n",
      "CART: 0.992495 (0.009015)\n",
      "RF: 0.994995 (0.007075)\n",
      "NB: 0.903784 (0.020004)\n",
      "SVM: 0.949899 (0.015864)\n"
     ]
    },
    {
     "data": {
      "image/png": "[encoded data removed]",
      "text/plain": [
       "<Figure size 432x288 with 1 Axes>"
      ]
     },
     "metadata": {
      "needs_background": "light"
     },
     "output_type": "display_data"
    }
   ],
   "source": [
    "# 10-fold cross validation\n",
    "for name, model in models:\n",
    "    kfold = KFold(n_splits=10)#, random_state=seed)\n",
    "    cv_results = cross_val_score(model, trainDataGlobal, trainLabelsGlobal, cv=kfold, scoring=scoring)\n",
    "    results.append(cv_results)\n",
    "    names.append(name)\n",
    "    msg = \"%s: %f (%f)\" % (name, cv_results.mean(), cv_results.std())\n",
    "    print(msg)\n",
    "\n",
    "# boxplot algorithm comparison\n",
    "fig = pyplot.figure()\n",
    "fig.suptitle('Machine Learning algorithm comparison')\n",
    "ax = fig.add_subplot(111)\n",
    "pyplot.boxplot(results)\n",
    "ax.set_xticklabels(names)\n",
    "pyplot.show()"
   ]
  },
  {
   "cell_type": "code",
   "execution_count": null,
   "id": "6589d6c3",
   "metadata": {},
   "outputs": [],
   "source": [
    "for file in glob.glob(test_path + \"/*.jpg\"):\n",
    "    # read the image\n",
    "    image = cv2.imread(file)\n",
    "    pixels, img1 = kSegPre(image)\n",
    "    val, comp = findComp(pixels)\n",
    "    img = divid(img1, comp, val)\n",
    "    image1 = cv2.cvtColor(img, cv2.COLOR_BGR2GRAY)\n",
    "                    #print(img.shape)\n",
    "                    #img = np.array(img, dtype=np.uint8)\n",
    "    hist = LBPH(image1)\n",
    "    \n",
    "    prediction = loaded_model.predict(hist.reshape(1, -1))[0]\n",
    "    \n",
    "    \n",
    "    \n",
    "    cv2.putText(image, prediction, (20,30), cv2.FONT_HERSHEY_SIMPLEX, 1.0, (0,255,255), 3)\n",
    "\n",
    "        # display the output image\n",
    "    plt.imshow(cv2.cvtColor(image, cv2.COLOR_BGR2RGB))\n",
    "    plt.show()\n",
    "    "
   ]
  },
  {
   "cell_type": "code",
   "execution_count": 21,
   "id": "a7835b02",
   "metadata": {},
   "outputs": [],
   "source": [
    "#model = RandomForestClassifier(n_estimators=20, random_state=42)\n",
    "#model.fit(lbph_features, labels)\n",
    "f = open(\"bResOutModel.cPickle\", \"wb\")\n",
    "f.write(cPickle.dumps(estimator))\n",
    "f.close()"
   ]
  },
  {
   "cell_type": "code",
   "execution_count": 22,
   "id": "454c708e",
   "metadata": {},
   "outputs": [
    {
     "name": "stderr",
     "output_type": "stream",
     "text": [
      "D:\\ResearchCoding\\tkrishna\\lib\\site-packages\\sklearn\\base.py:329: UserWarning: Trying to unpickle estimator DecisionTreeClassifier from version 1.0.1 when using version 1.0.2. This might lead to breaking code or invalid results. Use at your own risk. For more info please refer to:\n",
      "https://scikit-learn.org/stable/modules/model_persistence.html#security-maintainability-limitations\n",
      "  warnings.warn(\n",
      "D:\\ResearchCoding\\tkrishna\\lib\\site-packages\\sklearn\\base.py:329: UserWarning: Trying to unpickle estimator RandomForestClassifier from version 1.0.1 when using version 1.0.2. This might lead to breaking code or invalid results. Use at your own risk. For more info please refer to:\n",
      "https://scikit-learn.org/stable/modules/model_persistence.html#security-maintainability-limitations\n",
      "  warnings.warn(\n"
     ]
    }
   ],
   "source": [
    "loaded_model = cPickle.load(open(\"bResOutModel.cPickle\", 'rb'))"
   ]
  },
  {
   "cell_type": "code",
   "execution_count": 20,
   "id": "b66199a4",
   "metadata": {},
   "outputs": [
    {
     "name": "stdout",
     "output_type": "stream",
     "text": [
      "[INFO] evaluating...\n",
      "              precision    recall  f1-score   support\n",
      "\n",
      "           0       0.99      1.00      0.99        83\n",
      "           1       1.00      1.00      1.00        84\n",
      "           2       1.00      1.00      1.00        89\n",
      "           3       1.00      0.98      0.99        44\n",
      "           4       0.99      0.99      0.99        86\n",
      "           5       1.00      1.00      1.00       114\n",
      "\n",
      "    accuracy                           1.00       500\n",
      "   macro avg       1.00      0.99      1.00       500\n",
      "weighted avg       1.00      1.00      1.00       500\n",
      "\n",
      "[INFO] grid search took 0.01 seconds\n"
     ]
    }
   ],
   "source": [
    "\n",
    "testX = testDataGlobal\n",
    "testY = testLabelsGlobal\n",
    "# grab the best model and evaluate it\n",
    "print(\"[INFO] evaluating...\")\n",
    "model = estimator.best_estimator_\n",
    "start = time.time()\n",
    "predictions = model.predict(testX)\n",
    "end = time.time()\n",
    "print(classification_report(testY, predictions))\n",
    "\n",
    "print(\"[INFO] grid search took {:.2f} seconds\".format(\n",
    "\tend - start))"
   ]
  },
  {
   "cell_type": "code",
   "execution_count": null,
   "id": "05647d45",
   "metadata": {},
   "outputs": [],
   "source": [
    "print_metrics(testY, predicted)"
   ]
  },
  {
   "cell_type": "code",
   "execution_count": null,
   "id": "c0b08aa2",
   "metadata": {},
   "outputs": [],
   "source": []
  },
  {
   "cell_type": "code",
   "execution_count": 18,
   "id": "5713030d",
   "metadata": {},
   "outputs": [
    {
     "name": "stdout",
     "output_type": "stream",
     "text": [
      "Training set score: 0.9974949899799599\n",
      "Test set score: 0.996\n"
     ]
    }
   ],
   "source": [
    "\n",
    "\n",
    "\n",
    "print('Training set score: ' + str(estimator.score(trainX, trainY)))\n",
    "print('Test set score: ' + str(estimator.score(testX, testY)))\n",
    "# grab the best model and evaluate it\n"
   ]
  },
  {
   "cell_type": "code",
   "execution_count": null,
   "id": "e676e450",
   "metadata": {},
   "outputs": [],
   "source": []
  }
 ],
 "metadata": {
  "kernelspec": {
   "display_name": "Python 3 (ipykernel)",
   "language": "python",
   "name": "python3"
  },
  "language_info": {
   "codemirror_mode": {
    "name": "ipython",
    "version": 3
   },
   "file_extension": ".py",
   "mimetype": "text/x-python",
   "name": "python",
   "nbconvert_exporter": "python",
   "pygments_lexer": "ipython3",
   "version": "3.10.1"
  }
 },
 "nbformat": 4,
 "nbformat_minor": 5
}
