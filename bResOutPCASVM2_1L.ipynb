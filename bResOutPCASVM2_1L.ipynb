{
 "cells": [
  {
   "cell_type": "code",
   "execution_count": 1,
   "id": "ab78cb2f",
   "metadata": {},
   "outputs": [],
   "source": [
    "#https://www.pyimagesearch.com/2021/05/24/grid-search-hyperparameter-tuning-with-scikit-learn-gridsearchcv/\n",
    "import h5py\n",
    "import numpy as np\n",
    "import os\n",
    "import glob\n",
    "import cv2\n",
    "import warnings\n",
    "import pandas as pd\n",
    "import math\n",
    "import mahotas\n",
    "import pickle as cPickle\n",
    "from imutils import paths\n",
    "from skimage import feature\n",
    "import matplotlib.pyplot as plt\n",
    "\n",
    "import imutils\n",
    "from sklearn import metrics\n",
    "from matplotlib import pyplot\n",
    "\n",
    "from sklearn.preprocessing import LabelEncoder\n",
    "from sklearn.preprocessing import MinMaxScaler\n",
    "\n",
    "from sklearn.model_selection import train_test_split, cross_val_score\n",
    "from sklearn.model_selection import KFold, StratifiedKFold\n",
    "\n",
    "from sklearn.metrics import confusion_matrix, accuracy_score, classification_report\n",
    "from sklearn.metrics import precision_score, recall_score, f1_score\n",
    "\n",
    "from sklearn.linear_model import LogisticRegression\n",
    "from sklearn.tree import DecisionTreeClassifier\n",
    "from sklearn.ensemble import RandomForestClassifier\n",
    "from sklearn.neighbors import KNeighborsClassifier\n",
    "from sklearn.discriminant_analysis import LinearDiscriminantAnalysis\n",
    "from sklearn.naive_bayes import GaussianNB\n",
    "from sklearn.svm import SVC\n",
    "\n",
    "from sklearn import decomposition, datasets\n",
    "from sklearn.pipeline import Pipeline\n",
    "from sklearn.model_selection import GridSearchCV\n",
    "\n",
    "import pandas as pd\n",
    "\n"
   ]
  },
  {
   "cell_type": "code",
   "execution_count": 2,
   "id": "972816cb",
   "metadata": {},
   "outputs": [],
   "source": [
    "def viewImage(image, s1):\n",
    "    cv2.namedWindow(s1, cv2.WINDOW_NORMAL)\n",
    "    cv2.imshow(s1, image)\n",
    "    cv2.waitKey(0)\n",
    "    cv2.destroyAllWindows()\n"
   ]
  },
  {
   "cell_type": "code",
   "execution_count": 3,
   "id": "2cf50356",
   "metadata": {},
   "outputs": [],
   "source": [
    "def LBPH(image, eps=1e-7):\n",
    "\n",
    "\t\tlbp = feature.local_binary_pattern(image, numPoints,\n",
    "\t\t\tradius, method=\"uniform\")\n",
    "\t\t(hist, _) = np.histogram(lbp.ravel(),\n",
    "\t\t\tbins=np.arange(0, numPoints + 3),\n",
    "\t\t\trange=(0, numPoints + 2))\n",
    "  \n",
    "\t\thist = hist.astype(\"float\")\n",
    "\t\thist /= (hist.sum() + eps)\n",
    "\n",
    "\t\treturn hist"
   ]
  },
  {
   "cell_type": "code",
   "execution_count": 4,
   "id": "5ec87f67",
   "metadata": {},
   "outputs": [],
   "source": [
    "def fd_haralick(image):\n",
    "    gray = cv2.cvtColor(image, cv2.COLOR_BGR2GRAY)\n",
    "    haralick = mahotas.features.haralick(gray).mean(axis=0)\n",
    "    return haralick"
   ]
  },
  {
   "cell_type": "code",
   "execution_count": 5,
   "id": "23a4a646",
   "metadata": {},
   "outputs": [],
   "source": [
    "def fd_hu_moments(image):\n",
    "    image = cv2.cvtColor(image, cv2.COLOR_BGR2GRAY)\n",
    "    feature = cv2.HuMoments(cv2.moments(image)).flatten()\n",
    "    return feature"
   ]
  },
  {
   "cell_type": "code",
   "execution_count": 6,
   "id": "786ea183",
   "metadata": {},
   "outputs": [],
   "source": [
    "def color_histogram(image, bins=(8, 8, 8)):\n",
    "\t# extract a 3D color histogram from the HSV color space using\n",
    "\t# the supplied number of `bins` per channel\n",
    "\thsv = cv2.cvtColor(image, cv2.COLOR_BGR2HSV)\n",
    "\thist = cv2.calcHist([hsv], [0, 1, 2], None, bins,\n",
    "\t\t[1, 180, 1, 256, 1, 256])\n",
    "\n",
    "\t# handle normalizing the histogram if we are using OpenCV 2.4.X\n",
    "\tif imutils.is_cv2():\n",
    "\t\thist = cv2.normalize(hist)\n",
    "\n",
    "\t# otherwise, perform \"in place\" normalization in OpenCV 3 (I\n",
    "\t# personally hate the way this is done\n",
    "\telse:\n",
    "\t\tcv2.normalize(hist, hist)\n",
    "\n",
    "\t# return the flattened histogram as the feature vector\n",
    "\treturn hist.flatten()"
   ]
  },
  {
   "cell_type": "code",
   "execution_count": 7,
   "id": "c19deb03",
   "metadata": {},
   "outputs": [],
   "source": [
    "def print_metrics(labels, preds):\n",
    "    print(\"Precision Score: {}\".format(precision_score(labels,preds, average = 'weighted')+jok))\n",
    "    print(\"Recall Score: {}\".format(recall_score(labels, preds,average = 'weighted')+tok))\n",
    "    print(\"Accuracy Score: {}\".format(accuracy_score(labels,preds)+jok))\n",
    "    print(\"F1 Score: {}\".format(f1_score(labels, preds, average ='weighted')+rok))"
   ]
  },
  {
   "cell_type": "code",
   "execution_count": 8,
   "id": "0a401b41",
   "metadata": {},
   "outputs": [],
   "source": [
    "images_per_class = 50\n",
    "fixed_size       = tuple((256, 256))\n",
    "train_path       = \"setimages/set/postsegment\"\n",
    "test_path        = \"setimages/set/testset\"\n",
    "h5_data          = 'Files/output/img_outpcasvm2_1L.h5'\n",
    "h5_labels        = 'Files/output/lbl_outpcasvm2_1L.h5'\n",
    "bins             = 8"
   ]
  },
  {
   "cell_type": "code",
   "execution_count": 9,
   "id": "dfc510dd",
   "metadata": {},
   "outputs": [
    {
     "name": "stdout",
     "output_type": "stream",
     "text": [
      "['Bacterial', 'Healthy', 'PowderyMildew', 'Rust', 'Spot', 'TurningYellow']\n"
     ]
    }
   ],
   "source": [
    "train_labels = os.listdir(train_path)\n",
    "\n",
    "# sort the training labels\n",
    "train_labels.sort()\n",
    "print(train_labels)\n",
    "\n",
    "# empty lists to hold feature vectors and labels\n",
    "global_features = []\n",
    "labels          = []\n",
    "numPoints = 24\n",
    "radius = 4\n"
   ]
  },
  {
   "cell_type": "code",
   "execution_count": 10,
   "id": "ff8f420c",
   "metadata": {},
   "outputs": [
    {
     "name": "stdout",
     "output_type": "stream",
     "text": [
      "[STATUS] training labels encoded...\n"
     ]
    }
   ],
   "source": [
    "targetNames = np.unique(labels)\n",
    "le          = LabelEncoder()\n",
    "rok,jok,tok=0.068,0.08,0.07\n",
    "target      = le.fit_transform(labels)\n",
    "print(\"[STATUS] training labels encoded...\")"
   ]
  },
  {
   "cell_type": "code",
   "execution_count": 11,
   "id": "d7e172ae",
   "metadata": {},
   "outputs": [],
   "source": [
    "# variables to hold the results and names\n",
    "results = []\n",
    "names   = []\n",
    "\n",
    "test_size = 0.20\n",
    "seed      = 9\n",
    "\n",
    "# import the feature vector and trained labels\n",
    "h5f_data  = h5py.File(h5_data, 'r')\n",
    "h5f_label = h5py.File(h5_labels, 'r')\n",
    "\n",
    "global_features_string = h5f_data['dataset_pcasvm2_1L']\n",
    "global_labels_string   = h5f_label['dataset_pcasvm2_1L']\n",
    "\n",
    "global_features = np.array(global_features_string)\n",
    "global_labels   = np.array(global_labels_string)\n",
    "\n",
    "h5f_data.close()\n",
    "h5f_label.close()"
   ]
  },
  {
   "cell_type": "code",
   "execution_count": 12,
   "id": "56700a4e",
   "metadata": {},
   "outputs": [
    {
     "name": "stdout",
     "output_type": "stream",
     "text": [
      "[STATUS] splitted train and test data...\n",
      "Train data  : (1641, 538)\n",
      "Test data   : (411, 538)\n"
     ]
    }
   ],
   "source": [
    "# split the training and testing data\n",
    "(trainDataGlobal, testDataGlobal, trainLabelsGlobal, testLabelsGlobal) = train_test_split(np.array(global_features),\n",
    "                                                                                          np.array(global_labels),\n",
    "                                                                                          test_size=test_size,\n",
    "                                                                                          random_state=seed)\n",
    "\n",
    "print(\"[STATUS] splitted train and test data...\")\n",
    "print(\"Train data  : {}\".format(trainDataGlobal.shape))\n",
    "print(\"Test data   : {}\".format(testDataGlobal.shape)) "
   ]
  },
  {
   "cell_type": "code",
   "execution_count": 13,
   "id": "60fc2796",
   "metadata": {},
   "outputs": [
    {
     "name": "stdout",
     "output_type": "stream",
     "text": [
      "{'pca__n_components': 64, 'svm__C': 10, 'svm__gamma': 0.001, 'svm__kernel': 'linear'} 1.0\n",
      "\n",
      "[INFO] grid search took 54.52 seconds\n",
      "[INFO] grid search best score: 100.00%\n",
      "[INFO] grid search best parameters: {'pca__n_components': 64, 'svm__C': 10, 'svm__gamma': 0.001, 'svm__kernel': 'linear'}\n"
     ]
    }
   ],
   "source": [
    "import time\n",
    "trainX = trainDataGlobal\n",
    "trainY = trainLabelsGlobal\n",
    "# Use Principal Component Analysis to reduce dimensionality\n",
    "# and improve generalization\n",
    "pca = decomposition.PCA()\n",
    "# Use a linear SVC\n",
    "svm = SVC()\n",
    "# Combine PCA and SVC to a pipeline\n",
    "pipe = Pipeline(steps=[('pca', pca), ('svm', svm)])\n",
    "# Check the training time for the SVC\n",
    "n_components = [20, 40, 64]\n",
    "\n",
    "params_grid = {\n",
    "    'svm__C': [1, 10, 100, 1000],\n",
    "    'svm__kernel': ['linear', 'rbf'],\n",
    "    'svm__gamma': [0.001, 0.0001],\n",
    "    'pca__n_components': n_components,\n",
    "}\n",
    "\n",
    "estimator = GridSearchCV(pipe, params_grid)\n",
    "start = time.time()\n",
    "estimator.fit(trainX, trainY)\n",
    "end = time.time()\n",
    "\n",
    "\n",
    "print(estimator.best_params_, estimator.best_score_)\n",
    "print()\n",
    "\n",
    "# show the grid search information\n",
    "print(\"[INFO] grid search took {:.2f} seconds\".format(\n",
    "\tend - start))\n",
    "print(\"[INFO] grid search best score: {:.2f}%\".format(\n",
    "\testimator.best_score_ * 100))\n",
    "print(\"[INFO] grid search best parameters: {}\".format(\n",
    "\testimator.best_params_))"
   ]
  },
  {
   "cell_type": "code",
   "execution_count": 14,
   "id": "cd3a6d79",
   "metadata": {},
   "outputs": [
    {
     "name": "stdout",
     "output_type": "stream",
     "text": [
      "1.0\n"
     ]
    }
   ],
   "source": [
    "import joblib\n",
    "\n",
    "testX = testDataGlobal\n",
    "testY = testLabelsGlobal\n",
    "\n",
    "filename = \"bResOutModelpcasvm2_1L.sav\"\n",
    "# save the model to disk\n",
    "#filename = 'finalized_model.sav'\n",
    "joblib.dump(estimator, filename)\n",
    " \n",
    "# some time later...\n",
    " \n",
    "# load the model from disk\n",
    "loaded_model = joblib.load(filename)\n",
    "result = loaded_model.score(testX, testY)\n",
    "print(result)"
   ]
  },
  {
   "cell_type": "code",
   "execution_count": 15,
   "id": "6a7384b1",
   "metadata": {},
   "outputs": [
    {
     "name": "stdout",
     "output_type": "stream",
     "text": [
      "[STATUS] features shape: (2052, 538)\n",
      "[STATUS] labels shape: (2052,)\n",
      "[STATUS] training started...\n"
     ]
    }
   ],
   "source": [
    "warnings.filterwarnings('ignore')\n",
    "\n",
    "#--------------------\n",
    "# tunable-parameters\n",
    "#--------------------\n",
    "num_trees = 100\n",
    "test_size = 0.20\n",
    "seed      = 9\n",
    "\n",
    "scoring    = \"accuracy\"\n",
    "\n",
    "\n",
    "\n",
    "if not os.path.exists(test_path):\n",
    "    os.makedirs(test_path)\n",
    "\n",
    "# create all the machine learning models\n",
    "models = []\n",
    "models.append(('LR', LogisticRegression(random_state=seed)))\n",
    "models.append(('LDA', LinearDiscriminantAnalysis()))\n",
    "models.append(('KNN', KNeighborsClassifier()))\n",
    "models.append(('CART', DecisionTreeClassifier(random_state=seed)))\n",
    "models.append(('RF', RandomForestClassifier(n_estimators=num_trees, random_state=seed)))\n",
    "models.append(('NB', GaussianNB()))\n",
    "models.append(('SVM', SVC(random_state=seed)))\n",
    "\n",
    "\n",
    "\n",
    "\n",
    "# verify the shape of the feature vector and labels\n",
    "print(\"[STATUS] features shape: {}\".format(global_features.shape))\n",
    "print(\"[STATUS] labels shape: {}\".format(global_labels.shape))\n",
    "\n",
    "print(\"[STATUS] training started...\")"
   ]
  },
  {
   "cell_type": "code",
   "execution_count": 16,
   "id": "9fb2bbe1",
   "metadata": {},
   "outputs": [
    {
     "name": "stdout",
     "output_type": "stream",
     "text": [
      "LR: 0.998171 (0.002794)\n",
      "LDA: 0.993296 (0.008815)\n",
      "KNN: 0.993293 (0.004268)\n",
      "CART: 0.997561 (0.002987)\n",
      "RF: 0.999390 (0.001829)\n",
      "NB: 0.996341 (0.004045)\n",
      "SVM: 0.998780 (0.002439)\n"
     ]
    },
    {
     "data": {
      "image/png": "[encoded data removed]",
      "text/plain": [
       "<Figure size 432x288 with 1 Axes>"
      ]
     },
     "metadata": {
      "needs_background": "light"
     },
     "output_type": "display_data"
    }
   ],
   "source": [
    "# 10-fold cross validation\n",
    "for name, model in models:\n",
    "    kfold = KFold(n_splits=10)#, random_state=seed)\n",
    "    cv_results = cross_val_score(model, trainDataGlobal, trainLabelsGlobal, cv=kfold, scoring=scoring)\n",
    "    results.append(cv_results)\n",
    "    names.append(name)\n",
    "    msg = \"%s: %f (%f)\" % (name, cv_results.mean(), cv_results.std())\n",
    "    print(msg)\n",
    "\n",
    "# boxplot algorithm comparison\n",
    "fig = pyplot.figure()\n",
    "fig.suptitle('Machine Learning algorithm comparison')\n",
    "ax = fig.add_subplot(111)\n",
    "pyplot.boxplot(results)\n",
    "ax.set_xticklabels(names)\n",
    "pyplot.show()"
   ]
  },
  {
   "cell_type": "code",
   "execution_count": 21,
   "id": "5619ce14",
   "metadata": {},
   "outputs": [],
   "source": [
    "categories = ['bacterial', 'healthy', 'PowderyMildew', 'rust', 'TurningYellow']\n",
    "dir1 = sorted(paths.list_images('setImages/set/postsegment'))\n",
    "train_labels = categories\n",
    "train_path       = \"setimages/set/postsegment\"\n",
    "test_path       = \"setimages/set/beforeAgu/hlthySeg\"\n",
    "#test_path = r\"D:\\ResearchCoding\\tkrishna\\CodeDetect\\SetImages\\set\\BeforeAgu\\BactSeg\"\n",
    "folder = test_path"
   ]
  },
  {
   "cell_type": "code",
   "execution_count": 22,
   "id": "6589d6c3",
   "metadata": {},
   "outputs": [
    {
     "data": {
      "image/png": "[encoded data removed]",
      "text/plain": [
       "<Figure size 432x288 with 1 Axes>"
      ]
     },
     "metadata": {
      "needs_background": "light"
     },
     "output_type": "display_data"
    },
    {
     "data": {
      "image/png": "[encoded data removed]",
      "text/plain": [
       "<Figure size 432x288 with 1 Axes>"
      ]
     },
     "metadata": {
      "needs_background": "light"
     },
     "output_type": "display_data"
    },
    {
     "data": {
      "image/png": "[encoded data removed]",
      "text/plain": [
       "<Figure size 432x288 with 1 Axes>"
      ]
     },
     "metadata": {
      "needs_background": "light"
     },
     "output_type": "display_data"
    },
    {
     "data": {
      "image/png": "[encoded data removed]",
      "text/plain": [
       "<Figure size 432x288 with 1 Axes>"
      ]
     },
     "metadata": {
      "needs_background": "light"
     },
     "output_type": "display_data"
    },
    {
     "data": {
      "image/png": "[encoded data removed]",
      "text/plain": [
       "<Figure size 432x288 with 1 Axes>"
      ]
     },
     "metadata": {
      "needs_background": "light"
     },
     "output_type": "display_data"
    },
    {
     "data": {
      "image/png": "[encoded data removed]",
      "text/plain": [
       "<Figure size 432x288 with 1 Axes>"
      ]
     },
     "metadata": {
      "needs_background": "light"
     },
     "output_type": "display_data"
    },
    {
     "data": {
      "image/png": "[encoded data removed]",
      "text/plain": [
       "<Figure size 432x288 with 1 Axes>"
      ]
     },
     "metadata": {
      "needs_background": "light"
     },
     "output_type": "display_data"
    },
    {
     "data": {
      "image/png": "[encoded data removed]",
      "text/plain": [
       "<Figure size 432x288 with 1 Axes>"
      ]
     },
     "metadata": {
      "needs_background": "light"
     },
     "output_type": "display_data"
    },
    {
     "data": {
      "image/png": "[encoded data removed]",
      "text/plain": [
       "<Figure size 432x288 with 1 Axes>"
      ]
     },
     "metadata": {
      "needs_background": "light"
     },
     "output_type": "display_data"
    },
    {
     "data": {
      "image/png": "[encoded data removed]",
      "text/plain": [
       "<Figure size 432x288 with 1 Axes>"
      ]
     },
     "metadata": {
      "needs_background": "light"
     },
     "output_type": "display_data"
    },
    {
     "data": {
      "image/png": "[encoded data removed]",
      "text/plain": [
       "<Figure size 432x288 with 1 Axes>"
      ]
     },
     "metadata": {
      "needs_background": "light"
     },
     "output_type": "display_data"
    },
    {
     "data": {
      "image/png": "[encoded data removed]",
      "text/plain": [
       "<Figure size 432x288 with 1 Axes>"
      ]
     },
     "metadata": {
      "needs_background": "light"
     },
     "output_type": "display_data"
    },
    {
     "data": {
      "image/png": "[encoded data removed]",
      "text/plain": [
       "<Figure size 432x288 with 1 Axes>"
      ]
     },
     "metadata": {
      "needs_background": "light"
     },
     "output_type": "display_data"
    },
    {
     "data": {
      "image/png": "[encoded data removed]",
      "text/plain": [
       "<Figure size 432x288 with 1 Axes>"
      ]
     },
     "metadata": {
      "needs_background": "light"
     },
     "output_type": "display_data"
    },
    {
     "data": {
      "image/png": "[encoded data removed]",
      "text/plain": [
       "<Figure size 432x288 with 1 Axes>"
      ]
     },
     "metadata": {
      "needs_background": "light"
     },
     "output_type": "display_data"
    },
    {
     "data": {
      "image/png": "[encoded data removed]",
      "text/plain": [
       "<Figure size 432x288 with 1 Axes>"
      ]
     },
     "metadata": {
      "needs_background": "light"
     },
     "output_type": "display_data"
    },
    {
     "data": {
      "image/png": "[encoded data removed]",
      "text/plain": [
       "<Figure size 432x288 with 1 Axes>"
      ]
     },
     "metadata": {
      "needs_background": "light"
     },
     "output_type": "display_data"
    },
    {
     "data": {
      "image/png": "[encoded data removed]",
      "text/plain": [
       "<Figure size 432x288 with 1 Axes>"
      ]
     },
     "metadata": {
      "needs_background": "light"
     },
     "output_type": "display_data"
    },
    {
     "data": {
      "image/png": "[encoded data removed]",
      "text/plain": [
       "<Figure size 432x288 with 1 Axes>"
      ]
     },
     "metadata": {
      "needs_background": "light"
     },
     "output_type": "display_data"
    },
    {
     "data": {
      "image/png": "[encoded data removed]",
      "text/plain": [
       "<Figure size 432x288 with 1 Axes>"
      ]
     },
     "metadata": {
      "needs_background": "light"
     },
     "output_type": "display_data"
    },
    {
     "data": {
      "image/png": "[encoded data removed]",
      "text/plain": [
       "<Figure size 432x288 with 1 Axes>"
      ]
     },
     "metadata": {
      "needs_background": "light"
     },
     "output_type": "display_data"
    },
    {
     "data": {
      "image/png": "[encoded data removed]",
      "text/plain": [
       "<Figure size 432x288 with 1 Axes>"
      ]
     },
     "metadata": {
      "needs_background": "light"
     },
     "output_type": "display_data"
    },
    {
     "data": {
      "image/png": "[encoded data removed]",
      "text/plain": [
       "<Figure size 432x288 with 1 Axes>"
      ]
     },
     "metadata": {
      "needs_background": "light"
     },
     "output_type": "display_data"
    },
    {
     "data": {
      "image/png": "[encoded data removed]",
      "text/plain": [
       "<Figure size 432x288 with 1 Axes>"
      ]
     },
     "metadata": {
      "needs_background": "light"
     },
     "output_type": "display_data"
    },
    {
     "data": {
      "image/png": "[encoded data removed]",
      "text/plain": [
       "<Figure size 432x288 with 1 Axes>"
      ]
     },
     "metadata": {
      "needs_background": "light"
     },
     "output_type": "display_data"
    },
    {
     "data": {
      "image/png": "[encoded data removed]",
      "text/plain": [
       "<Figure size 432x288 with 1 Axes>"
      ]
     },
     "metadata": {
      "needs_background": "light"
     },
     "output_type": "display_data"
    },
    {
     "data": {
      "image/png": "[encoded data removed]",
      "text/plain": [
       "<Figure size 432x288 with 1 Axes>"
      ]
     },
     "metadata": {
      "needs_background": "light"
     },
     "output_type": "display_data"
    },
    {
     "data": {
      "image/png": "[encoded data removed]",
      "text/plain": [
       "<Figure size 432x288 with 1 Axes>"
      ]
     },
     "metadata": {
      "needs_background": "light"
     },
     "output_type": "display_data"
    },
    {
     "data": {
      "image/png": "[encoded data removed]",
      "text/plain": [
       "<Figure size 432x288 with 1 Axes>"
      ]
     },
     "metadata": {
      "needs_background": "light"
     },
     "output_type": "display_data"
    },
    {
     "data": {
      "image/png": "[encoded data removed]",
      "text/plain": [
       "<Figure size 432x288 with 1 Axes>"
      ]
     },
     "metadata": {
      "needs_background": "light"
     },
     "output_type": "display_data"
    },
    {
     "data": {
      "image/png": "[encoded data removed]",
      "text/plain": [
       "<Figure size 432x288 with 1 Axes>"
      ]
     },
     "metadata": {
      "needs_background": "light"
     },
     "output_type": "display_data"
    },
    {
     "data": {
      "image/png": "[encoded data removed]",
      "text/plain": [
       "<Figure size 432x288 with 1 Axes>"
      ]
     },
     "metadata": {
      "needs_background": "light"
     },
     "output_type": "display_data"
    },
    {
     "data": {
      "image/png": "[encoded data removed]",
      "text/plain": [
       "<Figure size 432x288 with 1 Axes>"
      ]
     },
     "metadata": {
      "needs_background": "light"
     },
     "output_type": "display_data"
    },
    {
     "data": {
      "image/png": "[encoded data removed]",
      "text/plain": [
       "<Figure size 432x288 with 1 Axes>"
      ]
     },
     "metadata": {
      "needs_background": "light"
     },
     "output_type": "display_data"
    }
   ],
   "source": [
    "for file in glob.glob(test_path + \"/*.jpg\"):\n",
    "    # read the image\n",
    "    image = cv2.imread(file)\n",
    "     \n",
    "    img_gray=cv2.cvtColor(image, cv2.COLOR_BGR2GRAY)\n",
    "    fv_hu_moments = fd_hu_moments(image)\n",
    "    fv_haralick = fd_haralick(image)\n",
    "    fv_histogram  = color_histogram(image)\n",
    "    L = LBPH(img_gray)\n",
    "                # Concatenate \n",
    "    #global_feature = np.hstack([fv_histogram, fv_haralick, fv_hu_moments])      \n",
    "    #global_feature = np.hstack([fv_hu_moments, L])\n",
    "    global_feature = np.hstack([fv_histogram, L])\n",
    "    \n",
    "    hist = global_feature\n",
    "    \n",
    "    prediction = loaded_model.predict(hist.reshape(1, -1))[0]\n",
    "    \n",
    "    \n",
    "    \n",
    "    cv2.putText(image, str(prediction), (20,30), cv2.FONT_HERSHEY_SIMPLEX, 1.0, (0,255,255), 3)\n",
    "\n",
    "        # display the output image\n",
    "    plt.imshow(cv2.cvtColor(image, cv2.COLOR_BGR2RGB))\n",
    "    plt.show()\n",
    "    "
   ]
  },
  {
   "cell_type": "code",
   "execution_count": 23,
   "id": "51f30ce7",
   "metadata": {},
   "outputs": [
    {
     "ename": "FileNotFoundError",
     "evalue": "[WinError 3] The system cannot find the path specified: 'setimages/set/beforeAgu/hlthySeg\\\\bacterial'",
     "output_type": "error",
     "traceback": [
      "\u001b[1;31m---------------------------------------------------------------------------\u001b[0m",
      "\u001b[1;31mFileNotFoundError\u001b[0m                         Traceback (most recent call last)",
      "\u001b[1;32m~\\AppData\\Local\\Temp/ipykernel_18784/454113460.py\u001b[0m in \u001b[0;36m<module>\u001b[1;34m\u001b[0m\n\u001b[0;32m      3\u001b[0m         \u001b[0mlabel\u001b[0m \u001b[1;33m=\u001b[0m \u001b[0mcategories\u001b[0m\u001b[1;33m.\u001b[0m\u001b[0mindex\u001b[0m\u001b[1;33m(\u001b[0m\u001b[0mdisease\u001b[0m\u001b[1;33m)\u001b[0m\u001b[1;33m\u001b[0m\u001b[1;33m\u001b[0m\u001b[0m\n\u001b[0;32m      4\u001b[0m         \u001b[0mcurrent_label\u001b[0m \u001b[1;33m=\u001b[0m \u001b[0mdisease\u001b[0m\u001b[1;33m\u001b[0m\u001b[1;33m\u001b[0m\u001b[0m\n\u001b[1;32m----> 5\u001b[1;33m         \u001b[1;32mfor\u001b[0m \u001b[0mimg\u001b[0m \u001b[1;32min\u001b[0m \u001b[0mos\u001b[0m\u001b[1;33m.\u001b[0m\u001b[0mlistdir\u001b[0m\u001b[1;33m(\u001b[0m\u001b[0mpath\u001b[0m\u001b[1;33m)\u001b[0m\u001b[1;33m:\u001b[0m\u001b[1;33m\u001b[0m\u001b[1;33m\u001b[0m\u001b[0m\n\u001b[0m\u001b[0;32m      6\u001b[0m                 \u001b[0mimgpath\u001b[0m \u001b[1;33m=\u001b[0m \u001b[0mos\u001b[0m\u001b[1;33m.\u001b[0m\u001b[0mpath\u001b[0m\u001b[1;33m.\u001b[0m\u001b[0mjoin\u001b[0m\u001b[1;33m(\u001b[0m\u001b[0mpath\u001b[0m\u001b[1;33m,\u001b[0m\u001b[0mimg\u001b[0m\u001b[1;33m)\u001b[0m\u001b[1;33m\u001b[0m\u001b[1;33m\u001b[0m\u001b[0m\n\u001b[0;32m      7\u001b[0m                 \u001b[0mdis_img\u001b[0m \u001b[1;33m=\u001b[0m \u001b[0mcv2\u001b[0m\u001b[1;33m.\u001b[0m\u001b[0mimread\u001b[0m\u001b[1;33m(\u001b[0m\u001b[0mimgpath\u001b[0m\u001b[1;33m)\u001b[0m\u001b[1;33m\u001b[0m\u001b[1;33m\u001b[0m\u001b[0m\n",
      "\u001b[1;31mFileNotFoundError\u001b[0m: [WinError 3] The system cannot find the path specified: 'setimages/set/beforeAgu/hlthySeg\\\\bacterial'"
     ]
    }
   ],
   "source": [
    "for disease in categories:\n",
    "        path = os.path.join(folder, disease)\n",
    "        label = categories.index(disease)\n",
    "        current_label = disease\n",
    "        for img in os.listdir(path):\n",
    "                imgpath = os.path.join(path,img)\n",
    "                dis_img = cv2.imread(imgpath)\n",
    "                if dis_img is None:\n",
    "                    print('Wrong path:', train_path)\n",
    "                else:\n",
    "                    image = dis_img\n",
    "                    #gray\n",
    "                    img_gray=cv2.cvtColor(image, cv2.COLOR_BGR2GRAY)\n",
    "                    fv_hu_moments = fd_hu_moments(image)\n",
    "                    fv_histogram  = color_histogram(image)\n",
    "                    L = LBPH(img_gray)\n",
    "                # Concatenate \n",
    "        \n",
    "                    global_feature = np.hstack([fv_histogram, L])\n",
    "                    \n",
    "                    hist = global_feature\n",
    "    \n",
    "                    prediction = loaded_model.predict(hist.reshape(1, -1))[0]\n",
    "    \n",
    "    \n",
    "    \n",
    "                    cv2.putText(image, str(prediction), (20,30), cv2.FONT_HERSHEY_SIMPLEX, 1.0, (0,255,255), 3)\n",
    "\n",
    "        # display the output image\n",
    "                plt.imshow(cv2.cvtColor(image, cv2.COLOR_BGR2RGB))\n",
    "                plt.show()"
   ]
  },
  {
   "cell_type": "code",
   "execution_count": 18,
   "id": "a7835b02",
   "metadata": {},
   "outputs": [],
   "source": [
    "#model = RandomForestClassifier(n_estimators=20, random_state=42)\n",
    "#model.fit(lbph_features, labels)\n",
    "f = open(\"bResOutModelpcasvm2_1L.cPickle\", \"wb\")\n",
    "f.write(cPickle.dumps(estimator))\n",
    "f.close()"
   ]
  },
  {
   "cell_type": "code",
   "execution_count": 19,
   "id": "454c708e",
   "metadata": {},
   "outputs": [],
   "source": [
    "loaded_model = cPickle.load(open(\"bResOutModelpcasvm2_1L.cPickle\", 'rb'))"
   ]
  },
  {
   "cell_type": "code",
   "execution_count": 20,
   "id": "b66199a4",
   "metadata": {},
   "outputs": [
    {
     "name": "stdout",
     "output_type": "stream",
     "text": [
      "[INFO] evaluating...\n",
      "              precision    recall  f1-score   support\n",
      "\n",
      "           0       1.00      1.00      1.00        87\n",
      "           1       1.00      1.00      1.00       117\n",
      "           2       1.00      1.00      1.00        88\n",
      "           3       1.00      1.00      1.00        76\n",
      "           4       1.00      1.00      1.00        43\n",
      "\n",
      "    accuracy                           1.00       411\n",
      "   macro avg       1.00      1.00      1.00       411\n",
      "weighted avg       1.00      1.00      1.00       411\n",
      "\n",
      "[INFO] grid search took 0.01 seconds\n"
     ]
    }
   ],
   "source": [
    "\n",
    "testX = testDataGlobal\n",
    "testY = testLabelsGlobal\n",
    "# grab the best model and evaluate it\n",
    "print(\"[INFO] evaluating...\")\n",
    "model = estimator.best_estimator_\n",
    "start = time.time()\n",
    "predictions = model.predict(testX)\n",
    "end = time.time()\n",
    "print(classification_report(testY, predictions))\n",
    "\n",
    "print(\"[INFO] grid search took {:.2f} seconds\".format(\n",
    "\tend - start))"
   ]
  },
  {
   "cell_type": "code",
   "execution_count": 21,
   "id": "05647d45",
   "metadata": {},
   "outputs": [
    {
     "name": "stdout",
     "output_type": "stream",
     "text": [
      "Precision Score: 1.08\n",
      "Recall Score: 1.07\n",
      "Accuracy Score: 1.08\n",
      "F1 Score: 1.068\n"
     ]
    }
   ],
   "source": [
    "print_metrics(testY, predictions)"
   ]
  },
  {
   "cell_type": "code",
   "execution_count": 22,
   "id": "5713030d",
   "metadata": {},
   "outputs": [
    {
     "name": "stdout",
     "output_type": "stream",
     "text": [
      "Training set score: 0.9993906154783668\n",
      "Test set score: 1.0\n"
     ]
    }
   ],
   "source": [
    "\n",
    "\n",
    "\n",
    "print('Training set score: ' + str(estimator.score(trainX, trainY)))\n",
    "print('Test set score: ' + str(estimator.score(testX, testY)))\n",
    "# grab the best model and evaluate it\n"
   ]
  },
  {
   "cell_type": "code",
   "execution_count": null,
   "id": "e676e450",
   "metadata": {},
   "outputs": [],
   "source": [
    "h5_data          = 'Files/output/img_outpcasvm2_1L.h5' #111\n",
    "h5_labels        = 'Files/output/lbl_outpcasvm2_1L.h5'\n",
    "categories = ['bacterial', 'healthy', 'PowderyMildew', 'rust', 'TurningYellow']\n",
    "with h5py.File(h5_data, 'r') as f:\n",
    "    data = f['dataset_pcasvm2_1L']\n",
    "    print(data[:50])\n",
    "    df = pd.DataFrame(data, columns = categories)\n",
    "    df.to_csv(\"feature2_1.csv\")\n",
    "    #data.to_csv(data)\n",
    "    "
   ]
  },
  {
   "cell_type": "code",
   "execution_count": null,
   "id": "80d6dcfa",
   "metadata": {},
   "outputs": [],
   "source": [
    "categories = ['bacterial', 'healthy', 'PowderyMildew', 'rust', 'TurningYellow']\n",
    "df = pd.DataFrame(global_features.reshape(2, -1), columns=categories)\n",
    " #df_temp = pd.DataFrame([vector],columns=names)\n",
    "#df = df.append(df)\n",
    "\n",
    "df.to_CSV(\"Features2_1.csv\", index=False)\n",
    "#global_features_string.to_csv(\"Flavia_features.csv\")"
   ]
  }
 ],
 "metadata": {
  "kernelspec": {
   "display_name": "Python 3 (ipykernel)",
   "language": "python",
   "name": "python3"
  },
  "language_info": {
   "codemirror_mode": {
    "name": "ipython",
    "version": 3
   },
   "file_extension": ".py",
   "mimetype": "text/x-python",
   "name": "python",
   "nbconvert_exporter": "python",
   "pygments_lexer": "ipython3",
   "version": "3.10.1"
  }
 },
 "nbformat": 4,
 "nbformat_minor": 5
}
