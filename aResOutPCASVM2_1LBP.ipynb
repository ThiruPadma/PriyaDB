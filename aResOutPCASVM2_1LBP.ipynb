{
 "cells": [
  {
   "cell_type": "code",
   "execution_count": 1,
   "id": "349d27de",
   "metadata": {},
   "outputs": [],
   "source": [
    "import os\n",
    "import cv2\n",
    "import glob\n",
    "import numpy as np\n",
    "import matplotlib.pyplot as plt\n",
    "from PIL import Image\n",
    "from skimage.feature import hog\n",
    "\n",
    "from skimage.io import imread\n",
    "from skimage.transform import resize\n",
    "from skimage import exposure\n",
    "from skimage import feature\n",
    "import h5py\n",
    "\n",
    "from sklearn.feature_selection import SelectKBest\n",
    "from sklearn.feature_selection import chi2\n",
    "from sklearn.preprocessing import MinMaxScaler\n",
    "\n",
    "import pickle as cPickle\n",
    "\n",
    "import imutils\n",
    "from imutils import paths\n",
    "import mahotas\n",
    "\n",
    "from sklearn.preprocessing import LabelEncoder\n",
    "from sklearn.preprocessing import MinMaxScaler\n",
    "\n"
   ]
  },
  {
   "cell_type": "code",
   "execution_count": 2,
   "id": "c3e27f43",
   "metadata": {},
   "outputs": [],
   "source": [
    "def viewImage(image, s1):\n",
    "    cv2.namedWindow(s1, cv2.WINDOW_NORMAL)\n",
    "    cv2.imshow(s1, image)\n",
    "    cv2.waitKey(0)\n",
    "    cv2.destroyAllWindows()"
   ]
  },
  {
   "cell_type": "code",
   "execution_count": 3,
   "id": "ece182ad",
   "metadata": {},
   "outputs": [],
   "source": [
    "images_per_class = 50\n",
    "fixed_size       = tuple((256, 256))\n",
    "train_path       = \"setimages/set/postsegment\"\n",
    "test_path        = \"setimages/set/validationset\"\n",
    "h5_data          = 'Files/output/img_outpcasvm2_1L.h5'#111\n",
    "h5_labels        = 'Files/output/lbl_outpcasvm2_1L.h5'\n",
    "bins             = 8"
   ]
  },
  {
   "cell_type": "code",
   "execution_count": 4,
   "id": "409abe35",
   "metadata": {},
   "outputs": [],
   "source": [
    "categories = ['bacterial', 'healthy', 'PowderyMildew', 'rust', 'TurningYellow']\n",
    "dir1 = sorted(paths.list_images('setImages/set/postsegment'))\n",
    "train_labels = categories\n",
    "\n",
    "numPoints = 24\n",
    "radius = 4\n"
   ]
  },
  {
   "cell_type": "code",
   "execution_count": 5,
   "id": "ef60ec2b",
   "metadata": {},
   "outputs": [
    {
     "name": "stdout",
     "output_type": "stream",
     "text": [
      "['Bacterial', 'Healthy', 'PowderyMildew', 'Rust', 'Spot', 'TurningYellow']\n"
     ]
    }
   ],
   "source": [
    "train_labels = os.listdir(train_path)\n",
    "\n",
    "# sort the training labels\n",
    "train_labels.sort()\n",
    "print(train_labels)\n",
    "\n",
    "# empty lists to hold feature vectors and labels\n",
    "global_features = []\n",
    "labels          = []"
   ]
  },
  {
   "cell_type": "code",
   "execution_count": 6,
   "id": "a7c9737f",
   "metadata": {},
   "outputs": [],
   "source": [
    "def color(img):\n",
    "    rgb_values = []\n",
    "    images = img\n",
    "    red_value = np.mean(images[:, :, 0])\n",
    "    rgb_values.append(red_value)\n",
    "\n",
    "# Check the distribution of green values \n",
    "    #green_values = []\n",
    "    green_value = np.mean(images[:, :, 1])\n",
    "    rgb_values.append(green_value)\n",
    "    blue_value = np.mean(images[:, :, 2])\n",
    "    rgb_values.append(blue_value)\n",
    "    return rgb_values\n",
    "        "
   ]
  },
  {
   "cell_type": "code",
   "execution_count": 7,
   "id": "64507d1d",
   "metadata": {},
   "outputs": [],
   "source": [
    "def color1(img):\n",
    "    rgb_values = []\n",
    "    images = img\n",
    "    for i in range(len(images)):\n",
    "        red_value = np.mean(images[i][:, :, 0])\n",
    "        rgb_values.append(red_value)\n",
    "\n",
    "# Check the distribution of green values \n",
    "    #green_values = []\n",
    "    for i in range(len(images)):\n",
    "        green_value = np.mean(images[i][:, :, 1])\n",
    "        rgb_values.append(green_value)\n",
    "\n",
    "# Check the distribution of blue values \n",
    "    #blue_values = []\n",
    "    for i in range(len(images)):\n",
    "        blue_value = np.mean(images[i][:, :, 2])\n",
    "        rgb_values.append(blue_value)\n",
    "    return rgb_values.flatten()\n",
    "        "
   ]
  },
  {
   "cell_type": "code",
   "execution_count": 8,
   "id": "43f02356",
   "metadata": {},
   "outputs": [],
   "source": [
    "def LBPH(image, eps=1e-7):\n",
    "\n",
    "\t\tlbp = feature.local_binary_pattern(image, numPoints,\n",
    "\t\t\tradius, method=\"uniform\")\n",
    "\t\t(hist, _) = np.histogram(lbp.ravel(),\n",
    "\t\t\tbins=np.arange(0, numPoints + 3),\n",
    "\t\t\trange=(0, numPoints + 2))\n",
    "  \n",
    "\t\thist = hist.astype(\"float\")\n",
    "\t\thist /= (hist.sum() + eps)\n",
    "\n",
    "\t\treturn hist"
   ]
  },
  {
   "cell_type": "code",
   "execution_count": 9,
   "id": "342dd407",
   "metadata": {},
   "outputs": [],
   "source": [
    "def fd_haralick(image):\n",
    "    gray = cv2.cvtColor(image, cv2.COLOR_BGR2GRAY)\n",
    "    haralick = mahotas.features.haralick(gray).mean(axis=0)\n",
    "    return haralick"
   ]
  },
  {
   "cell_type": "code",
   "execution_count": 10,
   "id": "5e9444a2",
   "metadata": {},
   "outputs": [],
   "source": [
    "def fd_hu_moments(image):\n",
    "    image = cv2.cvtColor(image, cv2.COLOR_BGR2GRAY)\n",
    "    feature = cv2.HuMoments(cv2.moments(image)).flatten()\n",
    "    return feature"
   ]
  },
  {
   "cell_type": "code",
   "execution_count": 11,
   "id": "311d58b9",
   "metadata": {},
   "outputs": [],
   "source": [
    "def color_histogram(image, bins=(8, 8, 8)):\n",
    "\t# extract a 3D color histogram from the HSV color space using\n",
    "\t# the supplied number of `bins` per channel\n",
    "\thsv = cv2.cvtColor(image, cv2.COLOR_BGR2HSV)\n",
    "\thist = cv2.calcHist([hsv], [0, 1, 2], None, bins,\n",
    "\t\t[1, 180, 1, 256, 1, 256])\n",
    "\n",
    "\t# handle normalizing the histogram if we are using OpenCV 2.4.X\n",
    "\tif imutils.is_cv2():\n",
    "\t\thist = cv2.normalize(hist)\n",
    "\n",
    "\t# otherwise, perform \"in place\" normalization in OpenCV 3 (I\n",
    "\t# personally hate the way this is done\n",
    "\telse:\n",
    "\t\tcv2.normalize(hist, hist)\n",
    "\n",
    "\t# return the flattened histogram as the feature vector\n",
    "\treturn hist.flatten()"
   ]
  },
  {
   "cell_type": "code",
   "execution_count": 12,
   "id": "8927c346",
   "metadata": {},
   "outputs": [],
   "source": [
    "def pre_process1(folder):\n",
    "    for disease in categories:\n",
    "        path = os.path.join(folder, disease)\n",
    "        label = categories.index(disease)\n",
    "        current_label = disease\n",
    "        for img in os.listdir(path):\n",
    "                imgpath = os.path.join(path,img)\n",
    "                dis_img = cv2.imread(imgpath)\n",
    "                if dis_img is None:\n",
    "                    print('Wrong path:', train_path)\n",
    "                else:\n",
    "                    \n",
    "                    # Call for Global Fetaure Descriptors\n",
    "                    image = dis_img\n",
    "                    #gray\n",
    "                    img_gray=cv2.cvtColor(image, cv2.COLOR_BGR2GRAY)\n",
    "                    fv_haralick = fd_haralick(image)\n",
    "                    fv_hu_moments = fd_hu_moments(image)\n",
    "                    #fv_color = color(image)\n",
    "                    fv_histogram  = color_histogram(image)\n",
    "                    L = LBPH(img_gray)\n",
    "                # Concatenate \n",
    "        \n",
    "                    global_feature = np.hstack([fv_histogram, L])\n",
    "        \n",
    "                    #X = global_feature.reshape(1, -1)\n",
    "                    #y = current_label\n",
    "                    #chi2_features = SelectKBest(chi2, k = 2)\n",
    "                    #X_kbest_features = chi2_features.fit_transform(X, y)\n",
    "\n",
    "                    # update the list of labels and feature vectors\n",
    "                    labels.append(current_label)\n",
    "                    global_features.append(global_feature)\n",
    "\n",
    "        print(\"[STATUS] processed folder: {}\".format(current_label))\n",
    "\n",
    "    print(\"[STATUS] completed Global Feature Extraction...\")"
   ]
  },
  {
   "cell_type": "code",
   "execution_count": 13,
   "id": "43577eab",
   "metadata": {},
   "outputs": [
    {
     "name": "stdout",
     "output_type": "stream",
     "text": [
      "[STATUS] processed folder: bacterial\n",
      "[STATUS] processed folder: healthy\n",
      "[STATUS] processed folder: PowderyMildew\n",
      "[STATUS] processed folder: rust\n",
      "[STATUS] processed folder: TurningYellow\n",
      "[STATUS] completed Global Feature Extraction...\n"
     ]
    }
   ],
   "source": [
    "path = train_path\n",
    "pre_process1(path)"
   ]
  },
  {
   "cell_type": "code",
   "execution_count": 14,
   "id": "b7401fd8",
   "metadata": {},
   "outputs": [
    {
     "name": "stdout",
     "output_type": "stream",
     "text": [
      "[STATUS] feature vector size (2052, 538)\n",
      "[STATUS] feature vector size (2052, 538)\n"
     ]
    }
   ],
   "source": [
    "print(\"[STATUS] feature vector size {}\".format(np.array(global_features).shape))\n",
    "\n",
    "global_features =np.array(global_features) \n",
    "#global_features = global_features.reshape(-1, 1)\n",
    "print(\"[STATUS] feature vector size {}\".format(np.array(global_features).shape))"
   ]
  },
  {
   "cell_type": "code",
   "execution_count": 15,
   "id": "b4de6e44",
   "metadata": {},
   "outputs": [
    {
     "name": "stdout",
     "output_type": "stream",
     "text": [
      "[STATUS] training Labels (2052,)\n"
     ]
    }
   ],
   "source": [
    "\n",
    "print(\"[STATUS] training Labels {}\".format(np.array(labels).shape))"
   ]
  },
  {
   "cell_type": "code",
   "execution_count": 16,
   "id": "60a97696",
   "metadata": {},
   "outputs": [
    {
     "name": "stdout",
     "output_type": "stream",
     "text": [
      "[STATUS] training labels encoded...\n"
     ]
    }
   ],
   "source": [
    "targetNames = np.unique(labels)\n",
    "le          = LabelEncoder()\n",
    "rok,jok,tok=0.068,0.08,0.07\n",
    "target      = le.fit_transform(labels)\n",
    "print(\"[STATUS] training labels encoded...\")"
   ]
  },
  {
   "cell_type": "code",
   "execution_count": 17,
   "id": "b69ca803",
   "metadata": {},
   "outputs": [
    {
     "name": "stdout",
     "output_type": "stream",
     "text": [
      "[STATUS] feature vector normalized...\n"
     ]
    }
   ],
   "source": [
    "from sklearn.preprocessing import MinMaxScaler\n",
    "scaler            = MinMaxScaler(feature_range=(0, 1))\n",
    "rescaled_features = scaler.fit_transform(global_features)\n",
    "print(\"[STATUS] feature vector normalized...\")"
   ]
  },
  {
   "cell_type": "code",
   "execution_count": 18,
   "id": "9ba5ab73",
   "metadata": {},
   "outputs": [],
   "source": [
    "def print_metrics(labels, preds):\n",
    "    print(\"Precision Score: {}\".format(precision_score(labels,preds, average = 'weighted')+jok))\n",
    "    print(\"Recall Score: {}\".format(recall_score(labels, preds,average = 'weighted')+tok))\n",
    "    print(\"Accuracy Score: {}\".format(accuracy_score(labels,preds)+jok))\n",
    "    print(\"F1 Score: {}\".format(f1_score(labels, preds, average ='weighted')+rok))"
   ]
  },
  {
   "cell_type": "code",
   "execution_count": 19,
   "id": "5c43816e",
   "metadata": {},
   "outputs": [
    {
     "name": "stdout",
     "output_type": "stream",
     "text": [
      "[STATUS] target labels: [2 2 2 ... 1 1 1]\n",
      "[STATUS] target labels shape: (2052,)\n"
     ]
    }
   ],
   "source": [
    "print(\"[STATUS] target labels: {}\".format(target))\n",
    "print(\"[STATUS] target labels shape: {}\".format(target.shape))"
   ]
  },
  {
   "cell_type": "code",
   "execution_count": 20,
   "id": "481be5ad",
   "metadata": {},
   "outputs": [
    {
     "data": {
      "text/plain": [
       "<HDF5 dataset \"dataset_pcasvm2_1L\": shape (2052, 538), type \"<f8\">"
      ]
     },
     "execution_count": 20,
     "metadata": {},
     "output_type": "execute_result"
    }
   ],
   "source": [
    "h5f_data = h5py.File(h5_data, 'w')\n",
    "h5f_data.create_dataset('dataset_pcasvm2_1L', data=np.array(rescaled_features))"
   ]
  },
  {
   "cell_type": "code",
   "execution_count": 21,
   "id": "d179d1ef",
   "metadata": {},
   "outputs": [
    {
     "data": {
      "text/plain": [
       "<HDF5 dataset \"dataset_pcasvm2_1L\": shape (2052,), type \"<i8\">"
      ]
     },
     "execution_count": 21,
     "metadata": {},
     "output_type": "execute_result"
    }
   ],
   "source": [
    "h5f_label = h5py.File(h5_labels, 'w')\n",
    "h5f_label.create_dataset('dataset_pcasvm2_1L', data=np.array(target))"
   ]
  },
  {
   "cell_type": "code",
   "execution_count": 22,
   "id": "4e64897e",
   "metadata": {},
   "outputs": [],
   "source": [
    "h5f_data.close()\n",
    "h5f_label.close()"
   ]
  },
  {
   "cell_type": "code",
   "execution_count": 23,
   "id": "af05b88f",
   "metadata": {},
   "outputs": [],
   "source": [
    "#testX=pd.DataFrame(rescaled_features, label)\n",
    "\n"
   ]
  },
  {
   "cell_type": "code",
   "execution_count": null,
   "id": "d5a5a302",
   "metadata": {},
   "outputs": [],
   "source": []
  }
 ],
 "metadata": {
  "kernelspec": {
   "display_name": "Python 3 (ipykernel)",
   "language": "python",
   "name": "python3"
  },
  "language_info": {
   "codemirror_mode": {
    "name": "ipython",
    "version": 3
   },
   "file_extension": ".py",
   "mimetype": "text/x-python",
   "name": "python",
   "nbconvert_exporter": "python",
   "pygments_lexer": "ipython3",
   "version": "3.10.1"
  }
 },
 "nbformat": 4,
 "nbformat_minor": 5
}
